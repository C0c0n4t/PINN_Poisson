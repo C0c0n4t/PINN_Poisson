{
 "cells": [
  {
   "cell_type": "code",
   "execution_count": null,
   "metadata": {},
   "outputs": [],
   "source": [
    "import tensorflow as tf\n",
    "import numpy as np\n",
    "\n",
    "from pinn import PINNModel, model1\n",
    "from accuracy import AccuracyCalc\n",
    "from plotting import NNPlots\n",
    "from data_gen import DataGenerator"
   ]
  },
  {
   "cell_type": "code",
   "execution_count": 2,
   "metadata": {},
   "outputs": [],
   "source": [
    "def real_u(area):\n",
    "    area = np.array(area)\n",
    "    if len(area.shape) >= 3:\n",
    "        x = area[0]\n",
    "        y = area[1]\n",
    "        return np.sin(np.pi * x) * np.sin(np.pi * y)\n",
    "    else:\n",
    "        return np.array([np.sin(np.pi * x) * np.sin(np.pi * y)  for x, y in area])"
   ]
  },
  {
   "cell_type": "code",
   "execution_count": 3,
   "metadata": {},
   "outputs": [],
   "source": [
    "# force gpu use\n",
    "gpus = tf.config.list_physical_devices('GPU')\n",
    "tf.config.experimental.set_visible_devices(gpus[0], 'GPU')"
   ]
  },
  {
   "cell_type": "code",
   "execution_count": null,
   "metadata": {},
   "outputs": [],
   "source": [
    "area_grid_size = (50, 50)\n",
    "x_limits = (0, 2)\n",
    "y_limits = (0, 2)\n",
    "border_grid_size = (50, 50)\n",
    "\n",
    "EPOCHS = 6000\n",
    "EPRINT = 500\n",
    "LOSS = 1e-4\n",
    "\n",
    "model = PINNModel(model1(4), optm = tf.keras.optimizers.Adam(learning_rate=0.001))\n",
    "\n",
    "dataGen = DataGenerator(x_limits, y_limits, model.predict, real_u)"
   ]
  },
  {
   "cell_type": "code",
   "execution_count": null,
   "metadata": {},
   "outputs": [],
   "source": [
    "model.train(3, dataGen.inner_pairs(area_grid_size), dataGen.border_pairs(border_grid_size), EPOCHS, LOSS, EPRINT)"
   ]
  },
  {
   "cell_type": "code",
   "execution_count": 6,
   "metadata": {},
   "outputs": [],
   "source": [
    "# for k in range(1, 10):\n",
    "#     # model.reset_weights()\n",
    "#     model.train(k, dataGen.inner_pairs(area_grid_size), dataGen.border_pairs(border_grid_size), EPOCHS, LOSS, EPRINT)\n",
    "    \n",
    "#     print(\"Error:\", acc.mse())\n",
    "#     print(\"Error:\", acc.maxe())\n",
    "\n",
    "#     model.save(f\"../models/model{k}.weights.h5\")\n",
    "\n",
    "#     break"
   ]
  },
  {
   "cell_type": "code",
   "execution_count": null,
   "metadata": {},
   "outputs": [],
   "source": [
    "# Should be created after training model, because of predict in __init__\n",
    "plotter = NNPlots(dataGen, (200, 200))\n",
    "acc = AccuracyCalc(dataGen, (70, 70))"
   ]
  },
  {
   "cell_type": "code",
   "execution_count": null,
   "metadata": {},
   "outputs": [],
   "source": [
    "print(\"Error:\", acc.mse())\n",
    "print(\"Error:\", acc.maxe())"
   ]
  },
  {
   "cell_type": "code",
   "execution_count": null,
   "metadata": {},
   "outputs": [],
   "source": [
    "plotter.plot2d_contour(color_map=\"gnuplot2\")"
   ]
  }
 ],
 "metadata": {
  "kernelspec": {
   "display_name": ".venv",
   "language": "python",
   "name": "python3"
  },
  "language_info": {
   "codemirror_mode": {
    "name": "ipython",
    "version": 3
   },
   "file_extension": ".py",
   "mimetype": "text/x-python",
   "name": "python",
   "nbconvert_exporter": "python",
   "pygments_lexer": "ipython3",
   "version": "3.12.3"
  }
 },
 "nbformat": 4,
 "nbformat_minor": 2
}
