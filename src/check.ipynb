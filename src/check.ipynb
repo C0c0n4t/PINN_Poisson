{
 "cells": [
  {
   "cell_type": "code",
   "execution_count": 11,
   "metadata": {},
   "outputs": [],
   "source": [
    "from dataset import get_area, get_border\n",
    "from pinn import PINNModel\n",
    "from models import model1\n",
    "from accuracy import AccuracyCalc\n",
    "import tensorflow as tf"
   ]
  },
  {
   "cell_type": "code",
   "execution_count": 12,
   "metadata": {},
   "outputs": [],
   "source": [
    "# force gpu use\n",
    "gpus = tf.config.list_physical_devices('GPU')\n",
    "tf.config.experimental.set_visible_devices(gpus[0], 'GPU')"
   ]
  },
  {
   "cell_type": "code",
   "execution_count": 13,
   "metadata": {},
   "outputs": [],
   "source": [
    "grid_size = (50, 50)\n",
    "plotting_grid_size = (200, 200)\n",
    "x_limits = (0, 2)\n",
    "y_limits = (0, 2)\n",
    "border_grid_size = (50, 50)\n",
    "\n",
    "EPOCHS = 4000\n",
    "EPRINT = 500\n",
    "LOSS = 1e-2  # 1e-4"
   ]
  },
  {
   "cell_type": "code",
   "execution_count": 14,
   "metadata": {},
   "outputs": [
    {
     "name": "stdout",
     "output_type": "stream",
     "text": [
      "epoch: 0 loss: 101.807098\n",
      "epoch: 500 loss: 0.247888148\n",
      "epoch: 1000 loss: 0.0487272777\n",
      "epoch: 1500 loss: 0.0179323293\n",
      "epoch: 2000 loss: 0.0119290464\n",
      "epoch: 2500 loss: 0.00641713\n"
     ]
    }
   ],
   "source": [
    "area = get_area(grid_size, x_limits, y_limits)\n",
    "border = get_border(border_grid_size, x_limits, y_limits)\n",
    "\n",
    "model = PINNModel(model1(), optm = tf.keras.optimizers.Adam(learning_rate=0.001))\n",
    "model.train(1, area, border, EPOCHS, LOSS, EPRINT)"
   ]
  },
  {
   "cell_type": "code",
   "execution_count": 15,
   "metadata": {},
   "outputs": [
    {
     "name": "stdout",
     "output_type": "stream",
     "text": [
      "\u001b[1m72/72\u001b[0m \u001b[32m━━━━━━━━━━━━━━━━━━━━\u001b[0m\u001b[37m\u001b[0m \u001b[1m0s\u001b[0m 638us/step \n",
      "Error: 7.764508170050296e-05\n",
      "Error: 0.04048428314082545\n"
     ]
    }
   ],
   "source": [
    "import numpy as np\n",
    "\n",
    "\n",
    "def real_u(area):\n",
    "    area = np.array(area)\n",
    "    if len(area.shape) >= 3:\n",
    "        x = area[0]\n",
    "        y = area[1]\n",
    "        return np.sin(np.pi * x) * np.sin(np.pi * y)\n",
    "    else:\n",
    "        return np.array([np.sin(np.pi * x) * np.sin(np.pi * y) for x, y in area])\n",
    "\n",
    "# pred_coord = list()\n",
    "# for _x in x[0]:\n",
    "#     for _y in x[0]:\n",
    "#         pred_coord.append([_x, _y])\n",
    "# pred_u = model.predict(np.array(pred_coord)).ravel().reshape(plotting_grid_size[0], plotting_grid_size[1])\n",
    "calc = AccuracyCalc(model._model, real_u, area=area)\n",
    "print(\"Error:\", calc.mse())\n",
    "print(\"Error:\", calc.maxe())"
   ]
  }
 ],
 "metadata": {
  "kernelspec": {
   "display_name": ".venv",
   "language": "python",
   "name": "python3"
  },
  "language_info": {
   "codemirror_mode": {
    "name": "ipython",
    "version": 3
   },
   "file_extension": ".py",
   "mimetype": "text/x-python",
   "name": "python",
   "nbconvert_exporter": "python",
   "pygments_lexer": "ipython3",
   "version": "3.12.3"
  }
 },
 "nbformat": 4,
 "nbformat_minor": 2
}
