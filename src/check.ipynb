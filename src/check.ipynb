{
 "cells": [
  {
   "cell_type": "code",
   "execution_count": null,
   "metadata": {},
   "outputs": [],
   "source": [
    "import tensorflow as tf\n",
    "\n",
    "# force gpu use\n",
    "gpus = tf.config.list_physical_devices('GPU')\n",
    "tf.config.experimental.set_visible_devices(gpus[0], 'GPU')"
   ]
  },
  {
   "cell_type": "code",
   "execution_count": 2,
   "metadata": {},
   "outputs": [],
   "source": [
    "from modules.pinn import PINNModel, model1, model2, model3, optm1, de1, ic1\n",
    "from modules.data_gen import DataGenerator, real_u1, get_data\n",
    "from modules.accuracy import AccuracyCalc"
   ]
  },
  {
   "cell_type": "code",
   "execution_count": null,
   "metadata": {},
   "outputs": [],
   "source": [
    "EPOCHS = 1000\n",
    "koefs = [1]  # [1, 5, 100]\n",
    "x = (0, 2)\n",
    "y = (0, 2)\n",
    "\n",
    "dg = DataGenerator(x, y, None, real_u1)\n",
    "acc = AccuracyCalc(dg, (70, 70))"
   ]
  },
  {
   "cell_type": "markdown",
   "metadata": {},
   "source": [
    "Compare models"
   ]
  },
  {
   "cell_type": "code",
   "execution_count": null,
   "metadata": {},
   "outputs": [],
   "source": [
    "area_grid_size = (50, 50)\n",
    "border_grid_size = (50, 50)\n",
    "dataset = dg.inner_pairs(area_grid_size), dg.border_pairs(border_grid_size)\n",
    "\n",
    "for modelf in [model1, model2, model3]:\n",
    "    model = PINNModel(modelf(), optm1())\n",
    "    model.fit(1, *dataset, EPOCHS)\n",
    "    \n",
    "    dg.update_predict(model.predict)\n",
    "    acc.update_predicitons((70, 70))\n",
    "    print(acc.mse(), acc.maxe())\n",
    "    # print(model.loss(koef, *dataset))\n",
    "    print()"
   ]
  },
  {
   "cell_type": "markdown",
   "metadata": {},
   "source": [
    "Time past 10.117368221282959\n",
    "\n",
    "0.008396425817106269 0.3557392358779907\n",
    "\n",
    "Time past 8.61058521270752\n",
    "\n",
    "0.014792604367491273 0.8388965129852295\n",
    "\n",
    "Time past 8.207294702529907\n",
    "\n",
    "0.011121878082387316 0.7775897979736328\n",
    "\n"
   ]
  },
  {
   "cell_type": "code",
   "execution_count": 9,
   "metadata": {},
   "outputs": [],
   "source": [
    "# area_grid_size = (50, 50)\n",
    "# border_grid_size = (50, 50)\n",
    "# dataset = dg.inner_pairs(area_grid_size), dg.border_pairs(border_grid_size)\n",
    "\n",
    "# for koef in koefs:\n",
    "#     model = PINNModel(de1, ic1,\n",
    "#         model2(), optm1(), \"mae\")\n",
    "#     model.fit(koef, *dataset, EPOCHS)\n",
    "    \n",
    "#     dg.update_predict(model.predict)\n",
    "#     acc.update_predicitons((70, 70))\n",
    "#     print(acc.mse(), acc.maxe())\n",
    "#     print(model.loss(koef, *dataset))\n",
    "#     print()"
   ]
  }
 ],
 "metadata": {
  "kernelspec": {
   "display_name": ".venv",
   "language": "python",
   "name": "python3"
  },
  "language_info": {
   "codemirror_mode": {
    "name": "ipython",
    "version": 3
   },
   "file_extension": ".py",
   "mimetype": "text/x-python",
   "name": "python",
   "nbconvert_exporter": "python",
   "pygments_lexer": "ipython3",
   "version": "3.12.3"
  }
 },
 "nbformat": 4,
 "nbformat_minor": 2
}
