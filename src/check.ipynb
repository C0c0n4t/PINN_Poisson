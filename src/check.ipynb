{
 "cells": [
  {
   "cell_type": "code",
   "execution_count": 6,
   "metadata": {},
   "outputs": [],
   "source": [
    "from dataset import get_area, get_border\n",
    "from pinn import PINNModel\n",
    "from models import model1\n",
    "from accuracy import AccuracyCalc\n",
    "import tensorflow as tf"
   ]
  },
  {
   "cell_type": "code",
   "execution_count": 7,
   "metadata": {},
   "outputs": [],
   "source": [
    "# force gpu use\n",
    "gpus = tf.config.list_physical_devices('GPU')\n",
    "tf.config.experimental.set_visible_devices(gpus[0], 'GPU')"
   ]
  },
  {
   "cell_type": "code",
   "execution_count": 8,
   "metadata": {},
   "outputs": [],
   "source": [
    "grid_size = (50, 50)\n",
    "plotting_grid_size = (200, 200)\n",
    "x_limits = (0, 2)\n",
    "y_limits = (0, 2)\n",
    "border_grid_size = (50, 50)\n",
    "\n",
    "EPOCHS = 3000\n",
    "EPRINT = 500\n",
    "LOSS = 1e-2  # 1e-4"
   ]
  },
  {
   "cell_type": "code",
   "execution_count": 9,
   "metadata": {},
   "outputs": [
    {
     "name": "stdout",
     "output_type": "stream",
     "text": [
      "(2304,) (2304,)\n",
      "epoch: 0 loss: 101.467392\n",
      "epoch: 500 loss: 0.476724029\n",
      "epoch: 1000 loss: 0.141053617\n",
      "epoch: 1500 loss: 0.0595020801\n",
      "epoch: 2000 loss: 0.0323401354\n",
      "epoch: 2500 loss: 0.0214601979\n"
     ]
    }
   ],
   "source": [
    "area = get_area(grid_size, x_limits, y_limits)\n",
    "border = get_border(border_grid_size, x_limits, y_limits)\n",
    "\n",
    "model = PINNModel(model1(), optm = tf.keras.optimizers.Adam(learning_rate=0.001))\n",
    "model.train(1, area, border, EPOCHS, LOSS, EPRINT)"
   ]
  },
  {
   "cell_type": "code",
   "execution_count": 10,
   "metadata": {},
   "outputs": [
    {
     "name": "stderr",
     "output_type": "stream",
     "text": [
      "WARNING: All log messages before absl::InitializeLog() is called are written to STDERR\n",
      "I0000 00:00:1728243151.661560   28383 service.cc:146] XLA service 0x72d3d0004e00 initialized for platform CUDA (this does not guarantee that XLA will be used). Devices:\n",
      "I0000 00:00:1728243151.661626   28383 service.cc:154]   StreamExecutor device (0): NVIDIA GeForce RTX 4060 Laptop GPU, Compute Capability 8.9\n",
      "2024-10-06 22:32:31.693591: I external/local_xla/xla/stream_executor/cuda/cuda_dnn.cc:531] Loaded cuDNN version 8907\n"
     ]
    },
    {
     "name": "stdout",
     "output_type": "stream",
     "text": [
      "\u001b[1m72/72\u001b[0m \u001b[32m━━━━━━━━━━━━━━━━━━━━\u001b[0m\u001b[37m\u001b[0m \u001b[1m2s\u001b[0m 3ms/step\n"
     ]
    },
    {
     "name": "stderr",
     "output_type": "stream",
     "text": [
      "I0000 00:00:1728243152.939624   28383 device_compiler.h:188] Compiled cluster using XLA!  This line is logged at most once for the lifetime of the process.\n"
     ]
    },
    {
     "name": "stdout",
     "output_type": "stream",
     "text": [
      "Error: 0.0003414330504463797\n",
      "Error: 0.07801216336974383\n"
     ]
    }
   ],
   "source": [
    "import numpy as np\n",
    "\n",
    "\n",
    "def real_u(area):\n",
    "    area = np.array(area)\n",
    "    if len(area.shape) >= 3:\n",
    "        x = area[0]\n",
    "        y = area[1]\n",
    "        return np.sin(np.pi * x) * np.sin(np.pi * y)\n",
    "    else:\n",
    "        return np.array([np.sin(np.pi * x) * np.sin(np.pi * y) for x, y in area])\n",
    "\n",
    "# pred_coord = list()\n",
    "# for _x in x[0]:\n",
    "#     for _y in x[0]:\n",
    "#         pred_coord.append([_x, _y])\n",
    "# pred_u = model.predict(np.array(pred_coord)).ravel().reshape(plotting_grid_size[0], plotting_grid_size[1])\n",
    "calc = AccuracyCalc(model._model, real_u, area=area)\n",
    "print(\"Error:\", calc.mse())\n",
    "print(\"Error:\", calc.maxe())"
   ]
  }
 ],
 "metadata": {
  "kernelspec": {
   "display_name": ".venv",
   "language": "python",
   "name": "python3"
  },
  "language_info": {
   "codemirror_mode": {
    "name": "ipython",
    "version": 3
   },
   "file_extension": ".py",
   "mimetype": "text/x-python",
   "name": "python",
   "nbconvert_exporter": "python",
   "pygments_lexer": "ipython3",
   "version": "3.12.3"
  }
 },
 "nbformat": 4,
 "nbformat_minor": 2
}
