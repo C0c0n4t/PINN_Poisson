{
 "cells": [
  {
   "cell_type": "code",
   "execution_count": 31,
   "metadata": {},
   "outputs": [],
   "source": [
    "import tensorflow as tf\n",
    "import numpy as np\n",
    "\n",
    "from pinn import PINNModel, model1\n",
    "from accuracy import AccuracyCalc\n",
    "from plotting import NNPlots\n",
    "from data_gen import DataGenerator"
   ]
  },
  {
   "cell_type": "code",
   "execution_count": 32,
   "metadata": {},
   "outputs": [],
   "source": [
    "def real_u(area):\n",
    "    area = np.array(area)\n",
    "    if len(area.shape) >= 3:\n",
    "        x = area[0]\n",
    "        y = area[1]\n",
    "        return np.sin(np.pi * x) * np.sin(np.pi * y)\n",
    "    else:\n",
    "        return np.array([np.sin(np.pi * x) * np.sin(np.pi * y)  for x, y in area])"
   ]
  },
  {
   "cell_type": "code",
   "execution_count": 33,
   "metadata": {},
   "outputs": [],
   "source": [
    "# force gpu use\n",
    "gpus = tf.config.list_physical_devices('GPU')\n",
    "tf.config.experimental.set_visible_devices(gpus[0], 'GPU')"
   ]
  },
  {
   "cell_type": "code",
   "execution_count": 34,
   "metadata": {},
   "outputs": [],
   "source": [
    "area_grid_size = (50, 50)\n",
    "x_limits = (0, 2)\n",
    "y_limits = (0, 2)\n",
    "border_grid_size = (50, 50)\n",
    "\n",
    "EPOCHS = 6000\n",
    "EPRINT = 500\n",
    "LOSS = 1e-3 # 1e-4\n",
    "\n",
    "model = PINNModel(model1(), optm = tf.keras.optimizers.Adam(learning_rate=0.001))\n",
    "\n",
    "dataGen = DataGenerator(x_limits, y_limits, model.predict, real_u)\n",
    "\n",
    "# info = Task(model.predict, real_u, (x_limits, y_limits), area_grid_size, border_grid_size)"
   ]
  },
  {
   "cell_type": "code",
   "execution_count": null,
   "metadata": {},
   "outputs": [],
   "source": [
    "# model.load_weights(\"../models/model0.weights.h5\")\n",
    "model.train(1, dataGen.inner_pairs(area_grid_size), dataGen.border_pairs(border_grid_size), EPOCHS, LOSS, EPRINT)\n",
    "# model.save(\"../models/model0.weights.h5\")"
   ]
  },
  {
   "cell_type": "code",
   "execution_count": null,
   "metadata": {},
   "outputs": [],
   "source": [
    "acc = AccuracyCalc(dataGen, (50, 50))\n",
    "print(\"Error:\", acc.mse())\n",
    "print(\"Error:\", acc.maxe())"
   ]
  },
  {
   "cell_type": "code",
   "execution_count": 37,
   "metadata": {},
   "outputs": [],
   "source": [
    "model.load_weights(\"../models/model0.weights.h5\")\n",
    "# model.train(1, dataGen.inner_pairs(area_grid_size), dataGen.border_pairs(border_grid_size), 500, LOSS, EPRINT)\n",
    "# model.save(\"../models/model1.weights.h5\")"
   ]
  },
  {
   "cell_type": "code",
   "execution_count": null,
   "metadata": {},
   "outputs": [],
   "source": [
    "dataGen._predict = model.predict\n",
    "acc = AccuracyCalc(dataGen, (50, 50))\n",
    "print(\"Error:\", acc.mse())\n",
    "print(\"Error:\", acc.maxe())"
   ]
  },
  {
   "cell_type": "code",
   "execution_count": null,
   "metadata": {},
   "outputs": [],
   "source": [
    "# plotter = NNPlots((x_limits, y_limits), area_grid_size, model.predict, real_u, info._predict_val)\n",
    "plotter = NNPlots(dataGen, (200, 200))"
   ]
  },
  {
   "cell_type": "code",
   "execution_count": null,
   "metadata": {},
   "outputs": [],
   "source": [
    "plotter.plot2d_contour(color_map=\"gnuplot2\")"
   ]
  }
 ],
 "metadata": {
  "kernelspec": {
   "display_name": ".venv",
   "language": "python",
   "name": "python3"
  },
  "language_info": {
   "codemirror_mode": {
    "name": "ipython",
    "version": 3
   },
   "file_extension": ".py",
   "mimetype": "text/x-python",
   "name": "python",
   "nbconvert_exporter": "python",
   "pygments_lexer": "ipython3",
   "version": "3.12.3"
  }
 },
 "nbformat": 4,
 "nbformat_minor": 2
}
