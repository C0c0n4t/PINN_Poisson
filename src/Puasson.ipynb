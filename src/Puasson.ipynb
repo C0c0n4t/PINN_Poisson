{
 "cells": [
  {
   "cell_type": "code",
   "execution_count": 23,
   "metadata": {},
   "outputs": [],
   "source": [
    "import numpy as np\n",
    "import matplotlib.pyplot as plt\n",
    "import tensorflow as tf\n",
    "import random"
   ]
  },
  {
   "cell_type": "code",
   "execution_count": 24,
   "metadata": {},
   "outputs": [],
   "source": [
    "def custom_activation(x):\n",
    "    return tf.sin(x)"
   ]
  },
  {
   "cell_type": "code",
   "execution_count": 25,
   "metadata": {},
   "outputs": [
    {
     "data": {
      "text/html": [
       "<pre style=\"white-space:pre;overflow-x:auto;line-height:normal;font-family:Menlo,'DejaVu Sans Mono',consolas,'Courier New',monospace\"><span style=\"font-weight: bold\">Model: \"sequential_2\"</span>\n",
       "</pre>\n"
      ],
      "text/plain": [
       "\u001b[1mModel: \"sequential_2\"\u001b[0m\n"
      ]
     },
     "metadata": {},
     "output_type": "display_data"
    },
    {
     "data": {
      "text/html": [
       "<pre style=\"white-space:pre;overflow-x:auto;line-height:normal;font-family:Menlo,'DejaVu Sans Mono',consolas,'Courier New',monospace\">┏━━━━━━━━━━━━━━━━━━━━━━━━━━━━━━━━━┳━━━━━━━━━━━━━━━━━━━━━━━━┳━━━━━━━━━━━━━━━┓\n",
       "┃<span style=\"font-weight: bold\"> Layer (type)                    </span>┃<span style=\"font-weight: bold\"> Output Shape           </span>┃<span style=\"font-weight: bold\">       Param # </span>┃\n",
       "┡━━━━━━━━━━━━━━━━━━━━━━━━━━━━━━━━━╇━━━━━━━━━━━━━━━━━━━━━━━━╇━━━━━━━━━━━━━━━┩\n",
       "│ dense_6 (<span style=\"color: #0087ff; text-decoration-color: #0087ff\">Dense</span>)                 │ (<span style=\"color: #00d7ff; text-decoration-color: #00d7ff\">None</span>, <span style=\"color: #00af00; text-decoration-color: #00af00\">32</span>)             │            <span style=\"color: #00af00; text-decoration-color: #00af00\">96</span> │\n",
       "├─────────────────────────────────┼────────────────────────┼───────────────┤\n",
       "│ dense_7 (<span style=\"color: #0087ff; text-decoration-color: #0087ff\">Dense</span>)                 │ (<span style=\"color: #00d7ff; text-decoration-color: #00d7ff\">None</span>, <span style=\"color: #00af00; text-decoration-color: #00af00\">32</span>)             │         <span style=\"color: #00af00; text-decoration-color: #00af00\">1,056</span> │\n",
       "├─────────────────────────────────┼────────────────────────┼───────────────┤\n",
       "│ dense_8 (<span style=\"color: #0087ff; text-decoration-color: #0087ff\">Dense</span>)                 │ (<span style=\"color: #00d7ff; text-decoration-color: #00d7ff\">None</span>, <span style=\"color: #00af00; text-decoration-color: #00af00\">1</span>)              │            <span style=\"color: #00af00; text-decoration-color: #00af00\">33</span> │\n",
       "└─────────────────────────────────┴────────────────────────┴───────────────┘\n",
       "</pre>\n"
      ],
      "text/plain": [
       "┏━━━━━━━━━━━━━━━━━━━━━━━━━━━━━━━━━┳━━━━━━━━━━━━━━━━━━━━━━━━┳━━━━━━━━━━━━━━━┓\n",
       "┃\u001b[1m \u001b[0m\u001b[1mLayer (type)                   \u001b[0m\u001b[1m \u001b[0m┃\u001b[1m \u001b[0m\u001b[1mOutput Shape          \u001b[0m\u001b[1m \u001b[0m┃\u001b[1m \u001b[0m\u001b[1m      Param #\u001b[0m\u001b[1m \u001b[0m┃\n",
       "┡━━━━━━━━━━━━━━━━━━━━━━━━━━━━━━━━━╇━━━━━━━━━━━━━━━━━━━━━━━━╇━━━━━━━━━━━━━━━┩\n",
       "│ dense_6 (\u001b[38;5;33mDense\u001b[0m)                 │ (\u001b[38;5;45mNone\u001b[0m, \u001b[38;5;34m32\u001b[0m)             │            \u001b[38;5;34m96\u001b[0m │\n",
       "├─────────────────────────────────┼────────────────────────┼───────────────┤\n",
       "│ dense_7 (\u001b[38;5;33mDense\u001b[0m)                 │ (\u001b[38;5;45mNone\u001b[0m, \u001b[38;5;34m32\u001b[0m)             │         \u001b[38;5;34m1,056\u001b[0m │\n",
       "├─────────────────────────────────┼────────────────────────┼───────────────┤\n",
       "│ dense_8 (\u001b[38;5;33mDense\u001b[0m)                 │ (\u001b[38;5;45mNone\u001b[0m, \u001b[38;5;34m1\u001b[0m)              │            \u001b[38;5;34m33\u001b[0m │\n",
       "└─────────────────────────────────┴────────────────────────┴───────────────┘\n"
      ]
     },
     "metadata": {},
     "output_type": "display_data"
    },
    {
     "data": {
      "text/html": [
       "<pre style=\"white-space:pre;overflow-x:auto;line-height:normal;font-family:Menlo,'DejaVu Sans Mono',consolas,'Courier New',monospace\"><span style=\"font-weight: bold\"> Total params: </span><span style=\"color: #00af00; text-decoration-color: #00af00\">1,185</span> (4.63 KB)\n",
       "</pre>\n"
      ],
      "text/plain": [
       "\u001b[1m Total params: \u001b[0m\u001b[38;5;34m1,185\u001b[0m (4.63 KB)\n"
      ]
     },
     "metadata": {},
     "output_type": "display_data"
    },
    {
     "data": {
      "text/html": [
       "<pre style=\"white-space:pre;overflow-x:auto;line-height:normal;font-family:Menlo,'DejaVu Sans Mono',consolas,'Courier New',monospace\"><span style=\"font-weight: bold\"> Trainable params: </span><span style=\"color: #00af00; text-decoration-color: #00af00\">1,185</span> (4.63 KB)\n",
       "</pre>\n"
      ],
      "text/plain": [
       "\u001b[1m Trainable params: \u001b[0m\u001b[38;5;34m1,185\u001b[0m (4.63 KB)\n"
      ]
     },
     "metadata": {},
     "output_type": "display_data"
    },
    {
     "data": {
      "text/html": [
       "<pre style=\"white-space:pre;overflow-x:auto;line-height:normal;font-family:Menlo,'DejaVu Sans Mono',consolas,'Courier New',monospace\"><span style=\"font-weight: bold\"> Non-trainable params: </span><span style=\"color: #00af00; text-decoration-color: #00af00\">0</span> (0.00 B)\n",
       "</pre>\n"
      ],
      "text/plain": [
       "\u001b[1m Non-trainable params: \u001b[0m\u001b[38;5;34m0\u001b[0m (0.00 B)\n"
      ]
     },
     "metadata": {},
     "output_type": "display_data"
    }
   ],
   "source": [
    "NN = tf.keras.models.Sequential(\n",
    "    [\n",
    "        tf.keras.layers.Input((2,)),\n",
    "        tf.keras.layers.Dense(units=32, activation=custom_activation),\n",
    "        tf.keras.layers.Dense(units=32, activation=custom_activation),\n",
    "        # tf.keras.layers.Dense(units=32, activation=custom_activation),\n",
    "        tf.keras.layers.Dense(units=1),\n",
    "    ]\n",
    ")\n",
    "\n",
    "NN.summary()"
   ]
  },
  {
   "cell_type": "code",
   "execution_count": 26,
   "metadata": {},
   "outputs": [],
   "source": [
    "optm = tf.keras.optimizers.Adam(learning_rate=0.001)\n",
    "NN.compile(optimizer=\"Adam\", loss=\"mean_squared_error\")"
   ]
  },
  {
   "cell_type": "code",
   "execution_count": 27,
   "metadata": {},
   "outputs": [],
   "source": [
    "tf_pi = tf.constant(np.pi)\n",
    "\n",
    "\n",
    "def real_u(x, y):\n",
    "    return np.sin(np.pi * x) * np.sin(np.pi * y)\n",
    "\n",
    "\n",
    "def f(x, y):\n",
    "    return -2 * tf_pi * tf_pi * tf.sin(tf_pi * y) * tf.sin(tf_pi * x)"
   ]
  },
  {
   "cell_type": "markdown",
   "metadata": {},
   "source": [
    "### Params"
   ]
  },
  {
   "cell_type": "code",
   "execution_count": 28,
   "metadata": {},
   "outputs": [],
   "source": [
    "grid_size = (50, 50)\n",
    "x_limits = (0, 2)\n",
    "y_limits = (0, 2)\n",
    "border_grid_size = (50, 50)\n",
    "koef = 2"
   ]
  },
  {
   "cell_type": "code",
   "execution_count": 29,
   "metadata": {},
   "outputs": [],
   "source": [
    "x = np.linspace(x_limits[0], x_limits[1], border_grid_size[0], dtype=np.float32)\n",
    "y = np.linspace(y_limits[0], y_limits[1], border_grid_size[1], dtype=np.float32)\n",
    "# y = np.random.uniform(1, 10, 10)\n",
    "x, y = np.meshgrid(x, y)\n",
    "train_coord = np.column_stack((x.flatten(), y.flatten()))\n",
    "\n",
    "border = train_coord.reshape(border_grid_size[0], border_grid_size[1], 2)\n",
    "border_01 = np.append(border[0], border[0][..., [1, 0]])\n",
    "border_02 = np.append(border[border_grid_size[0] - 1], border[border_grid_size[0] - 1][..., [1, 0]])\n",
    "border = np.append(border_01, border_02).reshape(border_grid_size[0] * 4, 2)\n",
    "\n",
    "x = np.linspace(x_limits[0], x_limits[1], grid_size[0], dtype=np.float32)\n",
    "y = np.linspace(y_limits[0], y_limits[1], grid_size[1], dtype=np.float32)\n",
    "\n",
    "x, y = np.meshgrid(x, y)\n",
    "train_coord = np.column_stack((x.flatten(), y.flatten()))\n",
    "# train_coord = x\n",
    "train_loss_record = []"
   ]
  },
  {
   "cell_type": "code",
   "execution_count": 30,
   "metadata": {},
   "outputs": [],
   "source": [
    "@tf.function\n",
    "def ode_system(coord, net, border):\n",
    "    # set type to avoid overcalculations\n",
    "    border = tf.constant(border, dtype=tf.float32)\n",
    "    coord = tf.constant(coord, dtype=tf.float32)\n",
    "    print(coord)\n",
    "    with tf.GradientTape(watch_accessed_variables=False, persistent=True) as tape:\n",
    "        tape.watch(coord)\n",
    "        with tf.GradientTape(watch_accessed_variables=False, persistent=True) as tape1:\n",
    "            tape1.watch(coord)\n",
    "            u = net(coord)\n",
    "        grad_u = tape1.gradient(u, coord)\n",
    "        du_dx = grad_u[..., 0]\n",
    "        du_dy = grad_u[..., 1]\n",
    "        del tape1\n",
    "\n",
    "    d2u_dx2 = tape.gradient(du_dx, coord)\n",
    "    d2u_dy2 = tape.gradient(du_dy, coord)\n",
    "    del tape\n",
    "    \n",
    "    x = coord[..., 0]\n",
    "    y = coord[..., 1]\n",
    "    ode_loss = d2u_dx2 + d2u_dy2 - f(x, y)\n",
    "    IC_loss = net(border) - tf.zeros((len(border), 1))\n",
    "\n",
    "    square_loss = tf.square(ode_loss) + koef * tf.square(IC_loss)\n",
    "    total_loss = tf.reduce_mean(square_loss)\n",
    "\n",
    "    return total_loss"
   ]
  },
  {
   "cell_type": "code",
   "execution_count": 31,
   "metadata": {},
   "outputs": [
    {
     "ename": "TypeError",
     "evalue": "in user code:\n\n    File \"/tmp/ipykernel_15313/2407923877.py\", line 4, in ode_system  *\n        border = tf.constant(border, dtype=tf.float32)\n\n    TypeError: Expected float32, but got Tensor(\"border:0\", shape=(200, 2), dtype=float32) of type 'SymbolicTensor'.\n",
     "output_type": "error",
     "traceback": [
      "\u001b[0;31m---------------------------------------------------------------------------\u001b[0m",
      "\u001b[0;31mTypeError\u001b[0m                                 Traceback (most recent call last)",
      "Cell \u001b[0;32mIn[31], line 6\u001b[0m\n\u001b[1;32m      4\u001b[0m \u001b[38;5;28;01mfor\u001b[39;00m itr \u001b[38;5;129;01min\u001b[39;00m \u001b[38;5;28mrange\u001b[39m(\u001b[38;5;241m6000\u001b[39m):\n\u001b[1;32m      5\u001b[0m     \u001b[38;5;28;01mwith\u001b[39;00m tf\u001b[38;5;241m.\u001b[39mGradientTape() \u001b[38;5;28;01mas\u001b[39;00m tape:\n\u001b[0;32m----> 6\u001b[0m         train_loss \u001b[38;5;241m=\u001b[39m \u001b[43mode_system\u001b[49m\u001b[43m(\u001b[49m\u001b[43mtrain_coord\u001b[49m\u001b[43m,\u001b[49m\u001b[43m \u001b[49m\u001b[43mNN\u001b[49m\u001b[43m,\u001b[49m\u001b[43m \u001b[49m\u001b[43mborder\u001b[49m\u001b[43m)\u001b[49m\n\u001b[1;32m      7\u001b[0m         train_loss_record\u001b[38;5;241m.\u001b[39mappend(train_loss)\n\u001b[1;32m      9\u001b[0m     grad_w \u001b[38;5;241m=\u001b[39m tape\u001b[38;5;241m.\u001b[39mgradient(train_loss, NN\u001b[38;5;241m.\u001b[39mtrainable_variables)\n",
      "File \u001b[0;32m~/Projects/PINN_Puasson/.venv/lib/python3.12/site-packages/tensorflow/python/util/traceback_utils.py:153\u001b[0m, in \u001b[0;36mfilter_traceback.<locals>.error_handler\u001b[0;34m(*args, **kwargs)\u001b[0m\n\u001b[1;32m    151\u001b[0m \u001b[38;5;28;01mexcept\u001b[39;00m \u001b[38;5;167;01mException\u001b[39;00m \u001b[38;5;28;01mas\u001b[39;00m e:\n\u001b[1;32m    152\u001b[0m   filtered_tb \u001b[38;5;241m=\u001b[39m _process_traceback_frames(e\u001b[38;5;241m.\u001b[39m__traceback__)\n\u001b[0;32m--> 153\u001b[0m   \u001b[38;5;28;01mraise\u001b[39;00m e\u001b[38;5;241m.\u001b[39mwith_traceback(filtered_tb) \u001b[38;5;28;01mfrom\u001b[39;00m \u001b[38;5;28;01mNone\u001b[39;00m\n\u001b[1;32m    154\u001b[0m \u001b[38;5;28;01mfinally\u001b[39;00m:\n\u001b[1;32m    155\u001b[0m   \u001b[38;5;28;01mdel\u001b[39;00m filtered_tb\n",
      "File \u001b[0;32m/tmp/__autograph_generated_fileim0k6eb0.py:10\u001b[0m, in \u001b[0;36mouter_factory.<locals>.inner_factory.<locals>.tf__ode_system\u001b[0;34m(coord, net, border)\u001b[0m\n\u001b[1;32m      8\u001b[0m do_return \u001b[38;5;241m=\u001b[39m \u001b[38;5;28;01mFalse\u001b[39;00m\n\u001b[1;32m      9\u001b[0m retval_ \u001b[38;5;241m=\u001b[39m ag__\u001b[38;5;241m.\u001b[39mUndefinedReturnValue()\n\u001b[0;32m---> 10\u001b[0m border \u001b[38;5;241m=\u001b[39m \u001b[43mag__\u001b[49m\u001b[38;5;241;43m.\u001b[39;49m\u001b[43mconverted_call\u001b[49m\u001b[43m(\u001b[49m\u001b[43mag__\u001b[49m\u001b[38;5;241;43m.\u001b[39;49m\u001b[43mld\u001b[49m\u001b[43m(\u001b[49m\u001b[43mtf\u001b[49m\u001b[43m)\u001b[49m\u001b[38;5;241;43m.\u001b[39;49m\u001b[43mconstant\u001b[49m\u001b[43m,\u001b[49m\u001b[43m \u001b[49m\u001b[43m(\u001b[49m\u001b[43mag__\u001b[49m\u001b[38;5;241;43m.\u001b[39;49m\u001b[43mld\u001b[49m\u001b[43m(\u001b[49m\u001b[43mborder\u001b[49m\u001b[43m)\u001b[49m\u001b[43m,\u001b[49m\u001b[43m)\u001b[49m\u001b[43m,\u001b[49m\u001b[43m \u001b[49m\u001b[38;5;28;43mdict\u001b[39;49m\u001b[43m(\u001b[49m\u001b[43mdtype\u001b[49m\u001b[38;5;241;43m=\u001b[39;49m\u001b[43mag__\u001b[49m\u001b[38;5;241;43m.\u001b[39;49m\u001b[43mld\u001b[49m\u001b[43m(\u001b[49m\u001b[43mtf\u001b[49m\u001b[43m)\u001b[49m\u001b[38;5;241;43m.\u001b[39;49m\u001b[43mfloat32\u001b[49m\u001b[43m)\u001b[49m\u001b[43m,\u001b[49m\u001b[43m \u001b[49m\u001b[43mfscope\u001b[49m\u001b[43m)\u001b[49m\n\u001b[1;32m     11\u001b[0m coord \u001b[38;5;241m=\u001b[39m ag__\u001b[38;5;241m.\u001b[39mconverted_call(ag__\u001b[38;5;241m.\u001b[39mld(tf)\u001b[38;5;241m.\u001b[39mconstant, (ag__\u001b[38;5;241m.\u001b[39mld(coord),), \u001b[38;5;28mdict\u001b[39m(dtype\u001b[38;5;241m=\u001b[39mag__\u001b[38;5;241m.\u001b[39mld(tf)\u001b[38;5;241m.\u001b[39mfloat32), fscope)\n\u001b[1;32m     12\u001b[0m ag__\u001b[38;5;241m.\u001b[39mld(\u001b[38;5;28mprint\u001b[39m)(ag__\u001b[38;5;241m.\u001b[39mld(coord))\n",
      "\u001b[0;31mTypeError\u001b[0m: in user code:\n\n    File \"/tmp/ipykernel_15313/2407923877.py\", line 4, in ode_system  *\n        border = tf.constant(border, dtype=tf.float32)\n\n    TypeError: Expected float32, but got Tensor(\"border:0\", shape=(200, 2), dtype=float32) of type 'SymbolicTensor'.\n"
     ]
    }
   ],
   "source": [
    "# train model\n",
    "# /physical_device:GPU:0\n",
    "# with tf.device('gpu:0'):\n",
    "for itr in range(6000):\n",
    "    with tf.GradientTape() as tape:\n",
    "        train_loss = ode_system(train_coord, NN, border)\n",
    "        train_loss_record.append(train_loss)\n",
    "\n",
    "    grad_w = tape.gradient(train_loss, NN.trainable_variables)\n",
    "    optm.apply_gradients(zip(grad_w, NN.trainable_variables))\n",
    "\n",
    "    if itr % 50 == 0:\n",
    "        # USE TF.PRINT()!!!\n",
    "        tf.print(\"epoch:\", itr, \"loss:\", train_loss.numpy())   \n",
    "        if train_loss < 0.1:\n",
    "            break\n",
    "\n",
    "plt.figure(figsize=(10, 8))\n",
    "plt.plot(train_loss_record)\n",
    "plt.show()"
   ]
  },
  {
   "cell_type": "code",
   "execution_count": 20,
   "metadata": {},
   "outputs": [],
   "source": [
    "# NN.save(\"model.keras\")\n",
    "# NN = tf.keras.models.load_model(\"my_model.keras\")"
   ]
  },
  {
   "cell_type": "code",
   "execution_count": null,
   "metadata": {},
   "outputs": [],
   "source": [
    "%matplotlib widget\n",
    "test_x = np.linspace(x_limits[0], x_limits[1], grid_size[0])\n",
    "test_y = np.linspace(x_limits[0], x_limits[1], grid_size[1])\n",
    "test_x, test_y = np.meshgrid(test_x, test_y)\n",
    "\n",
    "train_u = real_u(x, y)\n",
    "true_u = real_u(test_x, test_y)\n",
    "test_coord = np.column_stack((test_x.flatten(), test_y.flatten()))\n",
    "pred_coord = list()\n",
    "for _x in x[0]:\n",
    "    for _y in x[0]:\n",
    "        pred_coord.append([_x, _y])\n",
    "pred_u = NN.predict(np.array(pred_coord)).ravel().reshape(grid_size[0], grid_size[1])\n",
    "ax = plt.figure().add_subplot(projection=\"3d\")\n",
    "ax.plot_surface(\n",
    "    test_x,\n",
    "    test_y,\n",
    "    true_u,\n",
    "    edgecolor=\"royalblue\",\n",
    "    lw=0.5,\n",
    "    rstride=8,\n",
    "    cstride=8,\n",
    "    alpha=0.4,\n",
    "    # cmap=\"BuGn\",\n",
    "    facecolor=\"red\",\n",
    "    label=\"real\"\n",
    ")\n",
    "ax.plot_surface(\n",
    "    x,\n",
    "    y,\n",
    "    pred_u,\n",
    "    edgecolor=\"royalblue\",\n",
    "    lw=0.5,\n",
    "    rstride=8,\n",
    "    cstride=8,\n",
    "    alpha=0.4,\n",
    "    # cmap=\"plasma\",\n",
    "    facecolor=\"blue\",\n",
    "    label=\"pred\",\n",
    ")\n",
    "# ax.scatter(x, y, train_u, s=0.5, label=\"train\")\n",
    "ax.legend(fontsize=15)\n",
    "ax.set(xlim=x_limits, ylim=y_limits, xlabel=\"X\", ylabel=\"Y\", zlabel=\"Z\")"
   ]
  },
  {
   "cell_type": "markdown",
   "metadata": {},
   "source": [
    "# Accuracy calculation"
   ]
  },
  {
   "cell_type": "code",
   "execution_count": null,
   "metadata": {},
   "outputs": [],
   "source": [
    "# Calculate the number of correct predictions\n",
    "correct_predictions = np.sum(np.isclose(pred_u, true_u, rtol=0.1))\n",
    "\n",
    "# Calculate the total number of predictions\n",
    "total_predictions = np.prod(grid_size)\n",
    "\n",
    "# Calculate the accuracy\n",
    "accuracy = correct_predictions / total_predictions\n",
    "\n",
    "print(\"Accuracy:\", accuracy)"
   ]
  }
 ],
 "metadata": {
  "kernelspec": {
   "display_name": ".venv",
   "language": "python",
   "name": "python3"
  },
  "language_info": {
   "codemirror_mode": {
    "name": "ipython",
    "version": 3
   },
   "file_extension": ".py",
   "mimetype": "text/x-python",
   "name": "python",
   "nbconvert_exporter": "python",
   "pygments_lexer": "ipython3",
   "version": "3.12.3"
  }
 },
 "nbformat": 4,
 "nbformat_minor": 2
}
