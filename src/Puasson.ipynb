{
 "cells": [
  {
   "cell_type": "code",
   "execution_count": 50,
   "metadata": {},
   "outputs": [],
   "source": [
    "import numpy as np\n",
    "import matplotlib.pyplot as plt\n",
    "import tensorflow as tf\n",
    "import random"
   ]
  },
  {
   "cell_type": "code",
   "execution_count": 51,
   "metadata": {},
   "outputs": [],
   "source": [
    "def custom_activation(x):\n",
    "    return tf.sin(x)"
   ]
  },
  {
   "cell_type": "code",
   "execution_count": 52,
   "metadata": {},
   "outputs": [
    {
     "data": {
      "text/html": [
       "<pre style=\"white-space:pre;overflow-x:auto;line-height:normal;font-family:Menlo,'DejaVu Sans Mono',consolas,'Courier New',monospace\"><span style=\"font-weight: bold\">Model: \"sequential_5\"</span>\n",
       "</pre>\n"
      ],
      "text/plain": [
       "\u001b[1mModel: \"sequential_5\"\u001b[0m\n"
      ]
     },
     "metadata": {},
     "output_type": "display_data"
    },
    {
     "data": {
      "text/html": [
       "<pre style=\"white-space:pre;overflow-x:auto;line-height:normal;font-family:Menlo,'DejaVu Sans Mono',consolas,'Courier New',monospace\">┏━━━━━━━━━━━━━━━━━━━━━━━━━━━━━━━━━┳━━━━━━━━━━━━━━━━━━━━━━━━┳━━━━━━━━━━━━━━━┓\n",
       "┃<span style=\"font-weight: bold\"> Layer (type)                    </span>┃<span style=\"font-weight: bold\"> Output Shape           </span>┃<span style=\"font-weight: bold\">       Param # </span>┃\n",
       "┡━━━━━━━━━━━━━━━━━━━━━━━━━━━━━━━━━╇━━━━━━━━━━━━━━━━━━━━━━━━╇━━━━━━━━━━━━━━━┩\n",
       "│ dense_15 (<span style=\"color: #0087ff; text-decoration-color: #0087ff\">Dense</span>)                │ (<span style=\"color: #00d7ff; text-decoration-color: #00d7ff\">None</span>, <span style=\"color: #00af00; text-decoration-color: #00af00\">32</span>)             │            <span style=\"color: #00af00; text-decoration-color: #00af00\">96</span> │\n",
       "├─────────────────────────────────┼────────────────────────┼───────────────┤\n",
       "│ dense_16 (<span style=\"color: #0087ff; text-decoration-color: #0087ff\">Dense</span>)                │ (<span style=\"color: #00d7ff; text-decoration-color: #00d7ff\">None</span>, <span style=\"color: #00af00; text-decoration-color: #00af00\">32</span>)             │         <span style=\"color: #00af00; text-decoration-color: #00af00\">1,056</span> │\n",
       "├─────────────────────────────────┼────────────────────────┼───────────────┤\n",
       "│ dense_17 (<span style=\"color: #0087ff; text-decoration-color: #0087ff\">Dense</span>)                │ (<span style=\"color: #00d7ff; text-decoration-color: #00d7ff\">None</span>, <span style=\"color: #00af00; text-decoration-color: #00af00\">1</span>)              │            <span style=\"color: #00af00; text-decoration-color: #00af00\">33</span> │\n",
       "└─────────────────────────────────┴────────────────────────┴───────────────┘\n",
       "</pre>\n"
      ],
      "text/plain": [
       "┏━━━━━━━━━━━━━━━━━━━━━━━━━━━━━━━━━┳━━━━━━━━━━━━━━━━━━━━━━━━┳━━━━━━━━━━━━━━━┓\n",
       "┃\u001b[1m \u001b[0m\u001b[1mLayer (type)                   \u001b[0m\u001b[1m \u001b[0m┃\u001b[1m \u001b[0m\u001b[1mOutput Shape          \u001b[0m\u001b[1m \u001b[0m┃\u001b[1m \u001b[0m\u001b[1m      Param #\u001b[0m\u001b[1m \u001b[0m┃\n",
       "┡━━━━━━━━━━━━━━━━━━━━━━━━━━━━━━━━━╇━━━━━━━━━━━━━━━━━━━━━━━━╇━━━━━━━━━━━━━━━┩\n",
       "│ dense_15 (\u001b[38;5;33mDense\u001b[0m)                │ (\u001b[38;5;45mNone\u001b[0m, \u001b[38;5;34m32\u001b[0m)             │            \u001b[38;5;34m96\u001b[0m │\n",
       "├─────────────────────────────────┼────────────────────────┼───────────────┤\n",
       "│ dense_16 (\u001b[38;5;33mDense\u001b[0m)                │ (\u001b[38;5;45mNone\u001b[0m, \u001b[38;5;34m32\u001b[0m)             │         \u001b[38;5;34m1,056\u001b[0m │\n",
       "├─────────────────────────────────┼────────────────────────┼───────────────┤\n",
       "│ dense_17 (\u001b[38;5;33mDense\u001b[0m)                │ (\u001b[38;5;45mNone\u001b[0m, \u001b[38;5;34m1\u001b[0m)              │            \u001b[38;5;34m33\u001b[0m │\n",
       "└─────────────────────────────────┴────────────────────────┴───────────────┘\n"
      ]
     },
     "metadata": {},
     "output_type": "display_data"
    },
    {
     "data": {
      "text/html": [
       "<pre style=\"white-space:pre;overflow-x:auto;line-height:normal;font-family:Menlo,'DejaVu Sans Mono',consolas,'Courier New',monospace\"><span style=\"font-weight: bold\"> Total params: </span><span style=\"color: #00af00; text-decoration-color: #00af00\">1,185</span> (4.63 KB)\n",
       "</pre>\n"
      ],
      "text/plain": [
       "\u001b[1m Total params: \u001b[0m\u001b[38;5;34m1,185\u001b[0m (4.63 KB)\n"
      ]
     },
     "metadata": {},
     "output_type": "display_data"
    },
    {
     "data": {
      "text/html": [
       "<pre style=\"white-space:pre;overflow-x:auto;line-height:normal;font-family:Menlo,'DejaVu Sans Mono',consolas,'Courier New',monospace\"><span style=\"font-weight: bold\"> Trainable params: </span><span style=\"color: #00af00; text-decoration-color: #00af00\">1,185</span> (4.63 KB)\n",
       "</pre>\n"
      ],
      "text/plain": [
       "\u001b[1m Trainable params: \u001b[0m\u001b[38;5;34m1,185\u001b[0m (4.63 KB)\n"
      ]
     },
     "metadata": {},
     "output_type": "display_data"
    },
    {
     "data": {
      "text/html": [
       "<pre style=\"white-space:pre;overflow-x:auto;line-height:normal;font-family:Menlo,'DejaVu Sans Mono',consolas,'Courier New',monospace\"><span style=\"font-weight: bold\"> Non-trainable params: </span><span style=\"color: #00af00; text-decoration-color: #00af00\">0</span> (0.00 B)\n",
       "</pre>\n"
      ],
      "text/plain": [
       "\u001b[1m Non-trainable params: \u001b[0m\u001b[38;5;34m0\u001b[0m (0.00 B)\n"
      ]
     },
     "metadata": {},
     "output_type": "display_data"
    }
   ],
   "source": [
    "NN = tf.keras.models.Sequential(\n",
    "    [\n",
    "        tf.keras.layers.Input((2,)),\n",
    "        tf.keras.layers.Dense(units=32, activation=custom_activation),\n",
    "        tf.keras.layers.Dense(units=32, activation=custom_activation),\n",
    "        # tf.keras.layers.Dense(units=32, activation=custom_activation),\n",
    "        tf.keras.layers.Dense(units=1),\n",
    "    ]\n",
    ")\n",
    "\n",
    "NN.summary()"
   ]
  },
  {
   "cell_type": "code",
   "execution_count": 53,
   "metadata": {},
   "outputs": [],
   "source": [
    "optm = tf.keras.optimizers.Adam(learning_rate=0.001)\n",
    "NN.compile(optimizer=\"Adam\", loss=\"mean_squared_error\")"
   ]
  },
  {
   "cell_type": "code",
   "execution_count": 54,
   "metadata": {},
   "outputs": [],
   "source": [
    "tf_pi = tf.constant(np.pi)\n",
    "\n",
    "\n",
    "def real_u(x, y):\n",
    "    return np.sin(np.pi * x) * np.sin(np.pi * y)\n",
    "\n",
    "\n",
    "def f(x, y):\n",
    "    return -2 * tf_pi * tf_pi * tf.sin(tf_pi * y) * tf.sin(tf_pi * x)"
   ]
  },
  {
   "cell_type": "markdown",
   "metadata": {},
   "source": [
    "### Params"
   ]
  },
  {
   "cell_type": "code",
   "execution_count": 55,
   "metadata": {},
   "outputs": [],
   "source": [
    "grid_size = (50, 50)\n",
    "x_limits = (0, 2)\n",
    "y_limits = (0, 2)\n",
    "border_grid_size = (50, 50)\n",
    "koef = 2"
   ]
  },
  {
   "cell_type": "code",
   "execution_count": 56,
   "metadata": {},
   "outputs": [],
   "source": [
    "x = np.linspace(x_limits[0], x_limits[1], border_grid_size[0], dtype=np.float32)\n",
    "y = np.linspace(y_limits[0], y_limits[1], border_grid_size[1], dtype=np.float32)\n",
    "# y = np.random.uniform(1, 10, 10)\n",
    "x, y = np.meshgrid(x, y)\n",
    "train_coord = np.column_stack((x.flatten(), y.flatten()))\n",
    "\n",
    "border = train_coord.reshape(border_grid_size[0], border_grid_size[1], 2)\n",
    "border_01 = np.append(border[0], border[0][..., [1, 0]])\n",
    "border_02 = np.append(border[border_grid_size[0] - 1], border[border_grid_size[0] - 1][..., [1, 0]])\n",
    "border = np.append(border_01, border_02).reshape(border_grid_size[0] * 4, 2)\n",
    "\n",
    "x = np.linspace(x_limits[0], x_limits[1], grid_size[0], dtype=np.float32)\n",
    "y = np.linspace(y_limits[0], y_limits[1], grid_size[1], dtype=np.float32)\n",
    "\n",
    "x, y = np.meshgrid(x, y)\n",
    "train_coord = np.column_stack((x.flatten(), y.flatten()))\n",
    "# train_coord = x\n",
    "train_loss_record = []"
   ]
  },
  {
   "cell_type": "code",
   "execution_count": 57,
   "metadata": {},
   "outputs": [],
   "source": [
    "# @tf.function\n",
    "def ode_system(coord, net, border):\n",
    "    # set type to avoid overcalculations\n",
    "    border = tf.constant(border, dtype=tf.float32)\n",
    "    coord = tf.constant(coord, dtype=tf.float32)\n",
    "    with tf.GradientTape(watch_accessed_variables=False, persistent=True) as tape:\n",
    "        tape.watch(coord)\n",
    "        with tf.GradientTape(watch_accessed_variables=False, persistent=True) as tape1:\n",
    "            tape1.watch(coord)\n",
    "            u = net(coord)\n",
    "        grad_u = tape1.gradient(u, coord)\n",
    "        du_dx = grad_u[..., 0]\n",
    "        du_dy = grad_u[..., 1]\n",
    "        del tape1\n",
    "\n",
    "    d2u_dx2 = tape.gradient(du_dx, coord)[..., 0]\n",
    "    d2u_dy2 = tape.gradient(du_dy, coord)[..., 1]\n",
    "    del tape\n",
    "    \n",
    "    x = coord[..., 0]\n",
    "    y = coord[..., 1]\n",
    "    ode_loss = d2u_dx2 + d2u_dy2 - f(x, y)\n",
    "    IC_loss = net(border) - tf.zeros((len(border), 1))\n",
    "\n",
    "    square_loss = tf.square(ode_loss) + koef * tf.square(IC_loss)\n",
    "    total_loss = tf.reduce_mean(square_loss)\n",
    "\n",
    "    return total_loss"
   ]
  },
  {
   "cell_type": "code",
   "execution_count": 58,
   "metadata": {},
   "outputs": [
    {
     "name": "stdout",
     "output_type": "stream",
     "text": [
      "epoch: 0 loss: 93.81037\n",
      "epoch: 50 loss: 90.64829\n",
      "epoch: 100 loss: 70.2798\n",
      "epoch: 150 loss: 36.83466\n",
      "epoch: 200 loss: 22.69933\n",
      "epoch: 250 loss: 8.59223\n",
      "epoch: 300 loss: 2.1042607\n",
      "epoch: 350 loss: 0.76920927\n",
      "epoch: 400 loss: 0.6025748\n",
      "epoch: 450 loss: 0.51915866\n",
      "epoch: 500 loss: 0.46821243\n",
      "epoch: 550 loss: 0.42973882\n",
      "epoch: 600 loss: 0.3969188\n"
     ]
    }
   ],
   "source": [
    "# train model\n",
    "# /physical_device:GPU:0\n",
    "# with tf.device('gpu:0'):\n",
    "def train():\n",
    "    for itr in range(6000):\n",
    "        with tf.GradientTape() as tape:\n",
    "            train_loss = ode_system(train_coord, NN, border)\n",
    "            train_loss_record.append(train_loss)\n",
    "\n",
    "        grad_w = tape.gradient(train_loss, NN.trainable_variables)\n",
    "        optm.apply_gradients(zip(grad_w, NN.trainable_variables))\n",
    "\n",
    "        if itr % 50 == 0:\n",
    "            # USE TF.PRINT()!!!\n",
    "            tf.print(\"epoch:\", itr, \"loss:\", train_loss.numpy())   \n",
    "            if train_loss < 0.1:\n",
    "                break\n",
    "\n",
    "plt.figure(figsize=(10, 8))\n",
    "plt.plot(train_loss_record)\n",
    "plt.show()"
   ]
  },
  {
   "cell_type": "code",
   "execution_count": 20,
   "metadata": {},
   "outputs": [],
   "source": [
    "# NN.save(\"model.keras\")\n",
    "# NN = tf.keras.models.load_model(\"my_model.keras\")"
   ]
  },
  {
   "cell_type": "code",
   "execution_count": null,
   "metadata": {},
   "outputs": [],
   "source": [
    "%matplotlib widget\n",
    "test_x = np.linspace(x_limits[0], x_limits[1], grid_size[0])\n",
    "test_y = np.linspace(x_limits[0], x_limits[1], grid_size[1])\n",
    "test_x, test_y = np.meshgrid(test_x, test_y)\n",
    "\n",
    "train_u = real_u(x, y)\n",
    "true_u = real_u(test_x, test_y)\n",
    "test_coord = np.column_stack((test_x.flatten(), test_y.flatten()))\n",
    "pred_coord = list()\n",
    "for _x in x[0]:\n",
    "    for _y in x[0]:\n",
    "        pred_coord.append([_x, _y])\n",
    "pred_u = NN.predict(np.array(pred_coord)).ravel().reshape(grid_size[0], grid_size[1])\n",
    "ax = plt.figure().add_subplot(projection=\"3d\")\n",
    "ax.plot_surface(\n",
    "    test_x,\n",
    "    test_y,\n",
    "    true_u,\n",
    "    edgecolor=\"royalblue\",\n",
    "    lw=0.5,\n",
    "    rstride=8,\n",
    "    cstride=8,\n",
    "    alpha=0.4,\n",
    "    # cmap=\"BuGn\",\n",
    "    facecolor=\"red\",\n",
    "    label=\"real\"\n",
    ")\n",
    "ax.plot_surface(\n",
    "    x,\n",
    "    y,\n",
    "    pred_u,\n",
    "    edgecolor=\"royalblue\",\n",
    "    lw=0.5,\n",
    "    rstride=8,\n",
    "    cstride=8,\n",
    "    alpha=0.4,\n",
    "    # cmap=\"plasma\",\n",
    "    facecolor=\"blue\",\n",
    "    label=\"pred\",\n",
    ")\n",
    "# ax.scatter(x, y, train_u, s=0.5, label=\"train\")\n",
    "ax.legend(fontsize=15)\n",
    "ax.set(xlim=x_limits, ylim=y_limits, xlabel=\"X\", ylabel=\"Y\", zlabel=\"Z\")"
   ]
  },
  {
   "cell_type": "markdown",
   "metadata": {},
   "source": [
    "# Accuracy calculation"
   ]
  },
  {
   "cell_type": "code",
   "execution_count": null,
   "metadata": {},
   "outputs": [],
   "source": [
    "# Calculate the number of correct predictions\n",
    "correct_predictions = np.sum(np.isclose(pred_u, true_u, rtol=0.1))\n",
    "\n",
    "# Calculate the total number of predictions\n",
    "total_predictions = np.prod(grid_size)\n",
    "\n",
    "# Calculate the accuracy\n",
    "accuracy = correct_predictions / total_predictions\n",
    "\n",
    "print(\"Accuracy:\", accuracy)"
   ]
  }
 ],
 "metadata": {
  "kernelspec": {
   "display_name": ".venv",
   "language": "python",
   "name": "python3"
  },
  "language_info": {
   "codemirror_mode": {
    "name": "ipython",
    "version": 3
   },
   "file_extension": ".py",
   "mimetype": "text/x-python",
   "name": "python",
   "nbconvert_exporter": "python",
   "pygments_lexer": "ipython3",
   "version": "3.12.3"
  }
 },
 "nbformat": 4,
 "nbformat_minor": 2
}
