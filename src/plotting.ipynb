{
 "cells": [
  {
   "cell_type": "code",
   "execution_count": null,
   "metadata": {},
   "outputs": [],
   "source": [
    "%matplotlib widget\n",
    "\n",
    "from math import sin, cos, pi\n",
    "import matplotlib.pyplot as plt\n",
    "import numpy as np\n",
    "\n",
    "\n",
    "def f(x, y):\n",
    "    return -2 * pi ** 2 * np.sin(pi * y) * np.sin(pi * x)\n",
    "def real_u(x, y):\n",
    "    return np.sin(pi * x) * np.sin(pi * y)\n",
    "\n",
    "_x, _y = np.linspace(0, 2, 200), np.linspace(0, 2, 200)\n",
    "X, Y = np.meshgrid(_x, _y)\n",
    "z = real_u(X, Y)\n",
    "print(z.shape)\n",
    "ax = plt.figure().add_subplot(projection=\"3d\")\n",
    "ax.plot_surface(X, Y, z, edgecolor=\"royalblue\", lw=0.5, rstride=8, cstride=8, alpha=0.3, cmap=\"plasma\")\n",
    "ax.set(xlim=(0, 2), ylim=(0, 2),\n",
    "       xlabel='X', ylabel='Y', zlabel='Z')"
   ]
  }
 ],
 "metadata": {
  "kernelspec": {
   "display_name": "venv",
   "language": "python",
   "name": "python3"
  },
  "language_info": {
   "codemirror_mode": {
    "name": "ipython",
    "version": 3
   },
   "file_extension": ".py",
   "mimetype": "text/x-python",
   "name": "python",
   "nbconvert_exporter": "python",
   "pygments_lexer": "ipython3",
   "version": "3.10.12"
  }
 },
 "nbformat": 4,
 "nbformat_minor": 2
}
