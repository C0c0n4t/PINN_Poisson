{
 "cells": [
  {
   "cell_type": "code",
   "execution_count": 33,
   "metadata": {},
   "outputs": [],
   "source": [
    "import os\n",
    "\n",
    "import numpy as np\n",
    "import matplotlib.pyplot as plt\n",
    "import tensorflow as tf\n",
    "\n",
    "import plotting"
   ]
  },
  {
   "cell_type": "code",
   "execution_count": 34,
   "metadata": {},
   "outputs": [],
   "source": [
    "# force gpu use\n",
    "gpus = tf.config.list_physical_devices('GPU')\n",
    "tf.config.experimental.set_visible_devices(gpus[0], 'GPU')"
   ]
  },
  {
   "cell_type": "code",
   "execution_count": 35,
   "metadata": {},
   "outputs": [],
   "source": [
    "# quite good with @tf.fuinction\n",
    "@tf.function\n",
    "def custom_activation(x):\n",
    "    return tf.sin(x)"
   ]
  },
  {
   "cell_type": "code",
   "execution_count": 36,
   "metadata": {},
   "outputs": [],
   "source": [
    "def setup_model() -> tf.keras.models.Sequential:\n",
    "    model = tf.keras.models.Sequential(\n",
    "        [\n",
    "            tf.keras.layers.Input((2,)),\n",
    "            tf.keras.layers.Dense(units=32, activation=custom_activation),\n",
    "            tf.keras.layers.Dense(units=32, activation=custom_activation),\n",
    "            tf.keras.layers.Dense(units=32, activation=custom_activation),\n",
    "            tf.keras.layers.Dense(units=1),\n",
    "        ]\n",
    "    )\n",
    "\n",
    "    model.summary()\n",
    "    model.compile(optimizer=\"Adam\", loss=\"mean_squared_error\")\n",
    "    return model, tf.keras.optimizers.Adam(learning_rate=0.001)"
   ]
  },
  {
   "cell_type": "markdown",
   "metadata": {},
   "source": [
    "$\\frac{\\partial^2 u}{\\partial x^2} + \\frac{\\partial^2 u}{\\partial y^2}=f$"
   ]
  },
  {
   "cell_type": "code",
   "execution_count": 37,
   "metadata": {},
   "outputs": [],
   "source": [
    "tf_pi = tf.constant(np.pi)\n",
    "\n",
    "def real_u(area):\n",
    "    area = np.array(area)\n",
    "    if len(area.shape) >= 3:\n",
    "        x = area[0]\n",
    "        y = area[1]\n",
    "        return np.sin(np.pi * x) * np.sin(np.pi * y)\n",
    "    else:\n",
    "        return np.array([np.sin(np.pi * x) * np.sin(np.pi * y)  for x, y in area])\n",
    "\n",
    "# TODO: experiment with tf function and parameters\n",
    "@tf.function\n",
    "def f(x, y):\n",
    "    return -2 * tf_pi * tf_pi * tf.sin(tf_pi * y) * tf.sin(tf_pi * x)"
   ]
  },
  {
   "cell_type": "markdown",
   "metadata": {},
   "source": [
    "### Params"
   ]
  },
  {
   "cell_type": "code",
   "execution_count": 38,
   "metadata": {},
   "outputs": [],
   "source": [
    "grid_size = (50, 50)\n",
    "x_limits = (0, 2)\n",
    "y_limits = (0, 2)\n",
    "plotting_grid_size = (200, 200)\n",
    "koef = 1\n",
    "\n",
    "EPOCHS = 10000\n",
    "EPRINT = 500\n",
    "LOSS = 1e-4  #1e-4\n",
    "\n",
    "checkpoint_path = \"../models/model1.weights.h5\""
   ]
  },
  {
   "cell_type": "code",
   "execution_count": 39,
   "metadata": {},
   "outputs": [],
   "source": [
    "def get_area(grid_size, x_limits, y_limits):\n",
    "    x = np.linspace(x_limits[0], x_limits[1], grid_size[0], dtype=np.float32)[1:-1]\n",
    "    y = np.linspace(y_limits[0], y_limits[1], grid_size[1], dtype=np.float32)[1:-1]\n",
    "\n",
    "    # FIXME: area inside points is in border??\n",
    "    return mesh_to_pairs(np.meshgrid(x, y))\n",
    "\n",
    "\n",
    "def get_border(border_grid_size, x_limits, y_limits):\n",
    "    x = np.linspace(x_limits[0], x_limits[1],\n",
    "                    border_grid_size[0], dtype=np.float32)\n",
    "    y = np.linspace(y_limits[0], y_limits[1],\n",
    "                    border_grid_size[1], dtype=np.float32)\n",
    "    x_first = np.full(border_grid_size[0], x[0])\n",
    "    x_last = np.full(border_grid_size[0], x[-1])\n",
    "    y_first = np.full(border_grid_size[1], y[0])\n",
    "    y_last = np.full(border_grid_size[1], y[-1])\n",
    "    border = np.concatenate((np.column_stack((x_first, x)), np.column_stack(\n",
    "        (x_last, x)), np.column_stack((y, y_first))[1:-1], np.column_stack((y, y_last))[1:-1]))\n",
    "    return border\n",
    "\n",
    "\n",
    "def mesh_to_pairs(meshgrid: list[np.ndarray]):\n",
    "    return np.column_stack((meshgrid[0].flatten(), meshgrid[1].flatten()))"
   ]
  },
  {
   "cell_type": "code",
   "execution_count": 40,
   "metadata": {},
   "outputs": [],
   "source": [
    "@tf.function\n",
    "def ode_system(coord, border, net):\n",
    "    # set type to avoid overcalculations\n",
    "    # border = tf.constant(border, dtype=tf.float32)\n",
    "    # coord = tf.constant(coord, dtype=tf.float32)\n",
    "    with tf.GradientTape(watch_accessed_variables=False, persistent=True) as tape:\n",
    "        tape.watch(coord)\n",
    "        with tf.GradientTape(watch_accessed_variables=False, persistent=True) as tape1:\n",
    "            tape1.watch(coord)\n",
    "            u = net(coord)\n",
    "        grad_u = tape1.gradient(u, coord)\n",
    "        du_dx = grad_u[..., 0]\n",
    "        du_dy = grad_u[..., 1]\n",
    "        del tape1\n",
    "\n",
    "    d2u_dx2 = tape.gradient(du_dx, coord)[..., 0]\n",
    "    d2u_dy2 = tape.gradient(du_dy, coord)[..., 1]\n",
    "    del tape\n",
    "    \n",
    "    x = coord[..., 0]\n",
    "    y = coord[..., 1]\n",
    "    ode_loss = d2u_dx2 + d2u_dy2 - f(x, y)\n",
    "    IC_loss = net(border) - tf.zeros((len(border), 1))\n",
    "\n",
    "    square_loss = tf.square(ode_loss) + koef * tf.square(IC_loss)\n",
    "    total_loss = tf.reduce_mean(square_loss)\n",
    "\n",
    "    return total_loss"
   ]
  },
  {
   "cell_type": "code",
   "execution_count": 41,
   "metadata": {},
   "outputs": [],
   "source": [
    "# train model\n",
    "@tf.function\n",
    "def train_with_loss(train_coord, border, net, optm):\n",
    "    for itr in tf.range(0, EPOCHS):\n",
    "        with tf.GradientTape() as tape:\n",
    "            train_loss = ode_system(train_coord, border, net)\n",
    "            # train_loss_record.append(train_loss)\n",
    "\n",
    "        grad_w = tape.gradient(train_loss, net.trainable_variables)\n",
    "        optm.apply_gradients(zip(grad_w, net.trainable_variables))\n",
    "        del tape\n",
    "\n",
    "        if itr % EPRINT == 0:\n",
    "            # USE TF.PRINT()!!!\n",
    "            tf.print(\"epoch:\", itr, \"loss:\", train_loss)  #.numpy())\n",
    "            if train_loss < LOSS:\n",
    "                break"
   ]
  },
  {
   "cell_type": "code",
   "execution_count": null,
   "metadata": {},
   "outputs": [],
   "source": [
    "model, optm = setup_model()\n",
    "# if os.path.isfile(checkpoint_path):\n",
    "#     model.load_weights(checkpoint_path)\n",
    "# else:\n",
    "#     os.mknod(checkpoint_path)\n",
    "\n",
    "area = get_area(grid_size, x_limits, y_limits)\n",
    "border = get_border(border_grid_size, x_limits, y_limits)\n",
    "\n",
    "train_loss_record = []\n",
    "train_with_loss(area, border,\n",
    "                model, optm)\n",
    "# FIXME save weights, epoch is 0\n",
    "\n",
    "model.save_weights(checkpoint_path)\n",
    "plotting.NNPlots.plotLoss(train_loss_record)"
   ]
  },
  {
   "cell_type": "code",
   "execution_count": null,
   "metadata": {},
   "outputs": [],
   "source": [
    "\"\"\"\n",
    "Preparing usefull arrays for plotting and accuracy calculation\n",
    "\"\"\"\n",
    "x = np.linspace(x_limits[0], x_limits[1], plotting_grid_size[0])\n",
    "y = np.linspace(y_limits[0], y_limits[1], plotting_grid_size[1])\n",
    "x, y = np.meshgrid(x, y)\n",
    "test_x = np.linspace(x_limits[0], x_limits[1], plotting_grid_size[0])\n",
    "test_y = np.linspace(x_limits[0], x_limits[1], plotting_grid_size[1])\n",
    "test_x, test_y = np.meshgrid(test_x, test_y)\n",
    "train_u = real_u((x, y))\n",
    "true_u = real_u((test_x, test_y))\n",
    "test_coord = np.column_stack((test_x.flatten(), test_y.flatten()))\n",
    "pred_coord = list()\n",
    "for _x in x[0]:\n",
    "    for _y in x[0]:\n",
    "        pred_coord.append([_x, _y])\n",
    "pred_u = model.predict(np.array(pred_coord)).ravel().reshape(plotting_grid_size[0], plotting_grid_size[1])"
   ]
  },
  {
   "cell_type": "code",
   "execution_count": null,
   "metadata": {},
   "outputs": [],
   "source": [
    "%matplotlib widget\n",
    "plotter = plotting.NNPlots(test_x, test_y, true_u, x, y, pred_u, x_limits, y_limits)\n",
    "# plotter.plot3d()\n",
    "# plotter.plot2d_fix_x(3)\n",
    "\n",
    "# cool cmaps: coolwarm(set as default), cool, gistncar, rainbow\n",
    "plotter.plot2d_contour(color_map=\"gist_ncar\", contour_levels=30)"
   ]
  },
  {
   "cell_type": "markdown",
   "metadata": {},
   "source": [
    "# Accuracy calculation"
   ]
  },
  {
   "cell_type": "code",
   "execution_count": null,
   "metadata": {},
   "outputs": [],
   "source": [
    "from accuracy import AccuracyCalc\n",
    "\n",
    "real_u(np.array([[1,2], [1,2]]))\n",
    "\n",
    "calc = AccuracyCalc(model, real_u, area=np.array(pred_coord))\n",
    "print(\"Accuracy:\", calc.maape())"
   ]
  }
 ],
 "metadata": {
  "kernelspec": {
   "display_name": ".venv",
   "language": "python",
   "name": "python3"
  },
  "language_info": {
   "codemirror_mode": {
    "name": "ipython",
    "version": 3
   },
   "file_extension": ".py",
   "mimetype": "text/x-python",
   "name": "python",
   "nbconvert_exporter": "python",
   "pygments_lexer": "ipython3",
   "version": "3.12.3"
  }
 },
 "nbformat": 4,
 "nbformat_minor": 2
}
