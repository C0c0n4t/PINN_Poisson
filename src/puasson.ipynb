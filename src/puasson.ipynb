{
 "cells": [
  {
   "cell_type": "code",
   "execution_count": 1,
   "metadata": {},
   "outputs": [
    {
     "name": "stderr",
     "output_type": "stream",
     "text": [
      "2024-10-04 18:23:59.821068: E external/local_xla/xla/stream_executor/cuda/cuda_fft.cc:485] Unable to register cuFFT factory: Attempting to register factory for plugin cuFFT when one has already been registered\n",
      "2024-10-04 18:23:59.834248: E external/local_xla/xla/stream_executor/cuda/cuda_dnn.cc:8454] Unable to register cuDNN factory: Attempting to register factory for plugin cuDNN when one has already been registered\n",
      "2024-10-04 18:23:59.838177: E external/local_xla/xla/stream_executor/cuda/cuda_blas.cc:1452] Unable to register cuBLAS factory: Attempting to register factory for plugin cuBLAS when one has already been registered\n",
      "2024-10-04 18:23:59.848906: I tensorflow/core/platform/cpu_feature_guard.cc:210] This TensorFlow binary is optimized to use available CPU instructions in performance-critical operations.\n",
      "To enable the following instructions: AVX2 FMA, in other operations, rebuild TensorFlow with the appropriate compiler flags.\n",
      "2024-10-04 18:24:00.574626: W tensorflow/compiler/tf2tensorrt/utils/py_utils.cc:38] TF-TRT Warning: Could not find TensorRT\n"
     ]
    }
   ],
   "source": [
    "import os\n",
    "\n",
    "import numpy as np\n",
    "import matplotlib.pyplot as plt\n",
    "import tensorflow as tf\n",
    "\n",
    "import plotting"
   ]
  },
  {
   "cell_type": "code",
   "execution_count": 2,
   "metadata": {},
   "outputs": [
    {
     "name": "stderr",
     "output_type": "stream",
     "text": [
      "WARNING: All log messages before absl::InitializeLog() is called are written to STDERR\n",
      "I0000 00:00:1728055441.262751   10467 cuda_executor.cc:1015] successful NUMA node read from SysFS had negative value (-1), but there must be at least one NUMA node, so returning NUMA node zero. See more at https://github.com/torvalds/linux/blob/v6.0/Documentation/ABI/testing/sysfs-bus-pci#L344-L355\n",
      "I0000 00:00:1728055441.306782   10467 cuda_executor.cc:1015] successful NUMA node read from SysFS had negative value (-1), but there must be at least one NUMA node, so returning NUMA node zero. See more at https://github.com/torvalds/linux/blob/v6.0/Documentation/ABI/testing/sysfs-bus-pci#L344-L355\n",
      "I0000 00:00:1728055441.309076   10467 cuda_executor.cc:1015] successful NUMA node read from SysFS had negative value (-1), but there must be at least one NUMA node, so returning NUMA node zero. See more at https://github.com/torvalds/linux/blob/v6.0/Documentation/ABI/testing/sysfs-bus-pci#L344-L355\n"
     ]
    }
   ],
   "source": [
    "# force gpu use\n",
    "gpus = tf.config.list_physical_devices('GPU')\n",
    "tf.config.experimental.set_visible_devices(gpus[0], 'GPU')"
   ]
  },
  {
   "cell_type": "code",
   "execution_count": 3,
   "metadata": {},
   "outputs": [],
   "source": [
    "def setup_model() -> tf.keras.models.Sequential:\n",
    "    @tf.function\n",
    "    def custom_activation(x):\n",
    "        return tf.sin(x)\n",
    "\n",
    "    model = tf.keras.models.Sequential(\n",
    "        [\n",
    "            tf.keras.layers.Input((2,)),\n",
    "            tf.keras.layers.Dense(units=32, activation=custom_activation),\n",
    "            tf.keras.layers.Dense(units=32, activation=custom_activation),\n",
    "            tf.keras.layers.Dense(units=32, activation=custom_activation),\n",
    "            tf.keras.layers.Dense(units=1),\n",
    "        ]\n",
    "    )\n",
    "\n",
    "    model.summary()\n",
    "    model.compile(optimizer=\"Adam\", loss=\"mean_squared_error\")\n",
    "    return model, tf.keras.optimizers.Adam(learning_rate=0.001)"
   ]
  },
  {
   "cell_type": "markdown",
   "metadata": {},
   "source": [
    "$\\frac{\\partial^2 u}{\\partial x^2} + \\frac{\\partial^2 u}{\\partial y^2}=f$"
   ]
  },
  {
   "cell_type": "code",
   "execution_count": 4,
   "metadata": {},
   "outputs": [
    {
     "name": "stderr",
     "output_type": "stream",
     "text": [
      "I0000 00:00:1728055441.358030   10467 cuda_executor.cc:1015] successful NUMA node read from SysFS had negative value (-1), but there must be at least one NUMA node, so returning NUMA node zero. See more at https://github.com/torvalds/linux/blob/v6.0/Documentation/ABI/testing/sysfs-bus-pci#L344-L355\n",
      "I0000 00:00:1728055441.360010   10467 cuda_executor.cc:1015] successful NUMA node read from SysFS had negative value (-1), but there must be at least one NUMA node, so returning NUMA node zero. See more at https://github.com/torvalds/linux/blob/v6.0/Documentation/ABI/testing/sysfs-bus-pci#L344-L355\n",
      "I0000 00:00:1728055441.361811   10467 cuda_executor.cc:1015] successful NUMA node read from SysFS had negative value (-1), but there must be at least one NUMA node, so returning NUMA node zero. See more at https://github.com/torvalds/linux/blob/v6.0/Documentation/ABI/testing/sysfs-bus-pci#L344-L355\n",
      "I0000 00:00:1728055441.479700   10467 cuda_executor.cc:1015] successful NUMA node read from SysFS had negative value (-1), but there must be at least one NUMA node, so returning NUMA node zero. See more at https://github.com/torvalds/linux/blob/v6.0/Documentation/ABI/testing/sysfs-bus-pci#L344-L355\n",
      "I0000 00:00:1728055441.481494   10467 cuda_executor.cc:1015] successful NUMA node read from SysFS had negative value (-1), but there must be at least one NUMA node, so returning NUMA node zero. See more at https://github.com/torvalds/linux/blob/v6.0/Documentation/ABI/testing/sysfs-bus-pci#L344-L355\n",
      "I0000 00:00:1728055441.482959   10467 cuda_executor.cc:1015] successful NUMA node read from SysFS had negative value (-1), but there must be at least one NUMA node, so returning NUMA node zero. See more at https://github.com/torvalds/linux/blob/v6.0/Documentation/ABI/testing/sysfs-bus-pci#L344-L355\n",
      "2024-10-04 18:24:01.484397: I tensorflow/core/common_runtime/gpu/gpu_device.cc:2021] Created device /job:localhost/replica:0/task:0/device:GPU:0 with 2173 MB memory:  -> device: 0, name: NVIDIA GeForce RTX 3050 Laptop GPU, pci bus id: 0000:01:00.0, compute capability: 8.6\n"
     ]
    }
   ],
   "source": [
    "tf_pi = tf.constant(np.pi)\n",
    "\n",
    "# TODO: experiment with tf function and parameters\n",
    "@tf.function\n",
    "def f(x, y):\n",
    "    return -2 * tf_pi * tf_pi * tf.sin(tf_pi * y) * tf.sin(tf_pi * x)"
   ]
  },
  {
   "cell_type": "markdown",
   "metadata": {},
   "source": [
    "### Params"
   ]
  },
  {
   "cell_type": "code",
   "execution_count": 5,
   "metadata": {},
   "outputs": [],
   "source": [
    "grid_size = (50, 50)\n",
    "plotting_grid_size = (200, 200)\n",
    "x_limits = (0, 2)\n",
    "y_limits = (0, 2)\n",
    "border_grid_size = (50, 50)\n",
    "\n",
    "EPOCHS = 3000\n",
    "EPRINT = 500\n",
    "LOSS = 1e-2  #1e-4\n",
    "\n",
    "def checkpoint_path(ind: int) -> str:\n",
    "    return f\"../models/model{ind}.weights.h5\"\n",
    "\n",
    "def koef_path(koef: int) -> str:\n",
    "    return f\"../models/koef={koef}.weights.h5\""
   ]
  },
  {
   "cell_type": "code",
   "execution_count": 6,
   "metadata": {},
   "outputs": [],
   "source": [
    "def get_area(grid_size, x_limits, y_limits):\n",
    "    x = np.linspace(x_limits[0], x_limits[1], grid_size[0], dtype=np.float32)[1:-1]\n",
    "    y = np.linspace(y_limits[0], y_limits[1], grid_size[1], dtype=np.float32)[1:-1]\n",
    "\n",
    "    # FIXME: area inside points is in border??\n",
    "    return mesh_to_pairs(np.meshgrid(x, y))\n",
    "\n",
    "\n",
    "def get_border(border_grid_size, x_limits, y_limits):\n",
    "    x = np.linspace(x_limits[0], x_limits[1],\n",
    "                    border_grid_size[0], dtype=np.float32)\n",
    "    y = np.linspace(y_limits[0], y_limits[1],\n",
    "                    border_grid_size[1], dtype=np.float32)\n",
    "    x_first = np.full(border_grid_size[0], x[0])\n",
    "    x_last = np.full(border_grid_size[0], x[-1])\n",
    "    y_first = np.full(border_grid_size[1], y[0])\n",
    "    y_last = np.full(border_grid_size[1], y[-1])\n",
    "    border = np.concatenate((np.column_stack((x_first, x)), np.column_stack(\n",
    "        (x_last, x)), np.column_stack((y, y_first))[1:-1], np.column_stack((y, y_last))[1:-1]))\n",
    "    return border\n",
    "\n",
    "\n",
    "def mesh_to_pairs(meshgrid: list[np.ndarray]):\n",
    "    return np.column_stack((meshgrid[0].flatten(), meshgrid[1].flatten()))"
   ]
  },
  {
   "cell_type": "code",
   "execution_count": 7,
   "metadata": {},
   "outputs": [],
   "source": [
    "@tf.function\n",
    "def ode_system(net, koef, coord, border):\n",
    "    with tf.GradientTape(watch_accessed_variables=False, persistent=True) as tape:\n",
    "        tape.watch(coord)\n",
    "        with tf.GradientTape(watch_accessed_variables=False, persistent=True) as tape1:\n",
    "            tape1.watch(coord)\n",
    "            u = net(coord)\n",
    "        grad_u = tape1.gradient(u, coord)\n",
    "        du_dx = grad_u[..., 0]\n",
    "        du_dy = grad_u[..., 1]\n",
    "        del tape1\n",
    "\n",
    "    d2u_dx2 = tape.gradient(du_dx, coord)[..., 0]\n",
    "    d2u_dy2 = tape.gradient(du_dy, coord)[..., 1]\n",
    "    del tape\n",
    "    \n",
    "    x = coord[..., 0]\n",
    "    y = coord[..., 1]\n",
    "    ode_loss = d2u_dx2 + d2u_dy2 - f(x, y)\n",
    "    IC_loss = net(border) - tf.zeros((len(border), 1))\n",
    "\n",
    "    # square_loss = tf.square(ode_loss) + koef * tf.square(IC_loss)\n",
    "    # total_loss = tf.reduce_mean(square_loss)\n",
    "\n",
    "    # return total_loss\n",
    "    return tf.reduce_mean(tf.square(ode_loss)) + koef * tf.reduce_mean(tf.square(IC_loss))"
   ]
  },
  {
   "cell_type": "code",
   "execution_count": 8,
   "metadata": {},
   "outputs": [],
   "source": [
    "# train model\n",
    "@tf.function\n",
    "def train_with_loss(net, optm, koef, train_coord, border):\n",
    "    for itr in tf.range(0, EPOCHS):\n",
    "        with tf.GradientTape() as tape:\n",
    "            train_loss = ode_system(net, koef, train_coord, border)\n",
    "            # TODO: tf.summary\n",
    "            # train_loss_record.append(train_loss)\n",
    "\n",
    "        grad_w = tape.gradient(train_loss, net.trainable_variables)\n",
    "        optm.apply_gradients(zip(grad_w, net.trainable_variables))\n",
    "        del tape\n",
    "\n",
    "        if itr % EPRINT == 0:\n",
    "            # USE TF.PRINT()!!!\n",
    "            tf.print(\"epoch:\", itr, \"loss:\", train_loss)  #.numpy())\n",
    "            if train_loss < LOSS:\n",
    "                break"
   ]
  },
  {
   "cell_type": "code",
   "execution_count": 9,
   "metadata": {},
   "outputs": [
    {
     "data": {
      "text/html": [
       "<pre style=\"white-space:pre;overflow-x:auto;line-height:normal;font-family:Menlo,'DejaVu Sans Mono',consolas,'Courier New',monospace\"><span style=\"font-weight: bold\">Model: \"sequential\"</span>\n",
       "</pre>\n"
      ],
      "text/plain": [
       "\u001b[1mModel: \"sequential\"\u001b[0m\n"
      ]
     },
     "metadata": {},
     "output_type": "display_data"
    },
    {
     "data": {
      "text/html": [
       "<pre style=\"white-space:pre;overflow-x:auto;line-height:normal;font-family:Menlo,'DejaVu Sans Mono',consolas,'Courier New',monospace\">┏━━━━━━━━━━━━━━━━━━━━━━━━━━━━━━━━━┳━━━━━━━━━━━━━━━━━━━━━━━━┳━━━━━━━━━━━━━━━┓\n",
       "┃<span style=\"font-weight: bold\"> Layer (type)                    </span>┃<span style=\"font-weight: bold\"> Output Shape           </span>┃<span style=\"font-weight: bold\">       Param # </span>┃\n",
       "┡━━━━━━━━━━━━━━━━━━━━━━━━━━━━━━━━━╇━━━━━━━━━━━━━━━━━━━━━━━━╇━━━━━━━━━━━━━━━┩\n",
       "│ dense (<span style=\"color: #0087ff; text-decoration-color: #0087ff\">Dense</span>)                   │ (<span style=\"color: #00d7ff; text-decoration-color: #00d7ff\">None</span>, <span style=\"color: #00af00; text-decoration-color: #00af00\">32</span>)             │            <span style=\"color: #00af00; text-decoration-color: #00af00\">96</span> │\n",
       "├─────────────────────────────────┼────────────────────────┼───────────────┤\n",
       "│ dense_1 (<span style=\"color: #0087ff; text-decoration-color: #0087ff\">Dense</span>)                 │ (<span style=\"color: #00d7ff; text-decoration-color: #00d7ff\">None</span>, <span style=\"color: #00af00; text-decoration-color: #00af00\">32</span>)             │         <span style=\"color: #00af00; text-decoration-color: #00af00\">1,056</span> │\n",
       "├─────────────────────────────────┼────────────────────────┼───────────────┤\n",
       "│ dense_2 (<span style=\"color: #0087ff; text-decoration-color: #0087ff\">Dense</span>)                 │ (<span style=\"color: #00d7ff; text-decoration-color: #00d7ff\">None</span>, <span style=\"color: #00af00; text-decoration-color: #00af00\">32</span>)             │         <span style=\"color: #00af00; text-decoration-color: #00af00\">1,056</span> │\n",
       "├─────────────────────────────────┼────────────────────────┼───────────────┤\n",
       "│ dense_3 (<span style=\"color: #0087ff; text-decoration-color: #0087ff\">Dense</span>)                 │ (<span style=\"color: #00d7ff; text-decoration-color: #00d7ff\">None</span>, <span style=\"color: #00af00; text-decoration-color: #00af00\">1</span>)              │            <span style=\"color: #00af00; text-decoration-color: #00af00\">33</span> │\n",
       "└─────────────────────────────────┴────────────────────────┴───────────────┘\n",
       "</pre>\n"
      ],
      "text/plain": [
       "┏━━━━━━━━━━━━━━━━━━━━━━━━━━━━━━━━━┳━━━━━━━━━━━━━━━━━━━━━━━━┳━━━━━━━━━━━━━━━┓\n",
       "┃\u001b[1m \u001b[0m\u001b[1mLayer (type)                   \u001b[0m\u001b[1m \u001b[0m┃\u001b[1m \u001b[0m\u001b[1mOutput Shape          \u001b[0m\u001b[1m \u001b[0m┃\u001b[1m \u001b[0m\u001b[1m      Param #\u001b[0m\u001b[1m \u001b[0m┃\n",
       "┡━━━━━━━━━━━━━━━━━━━━━━━━━━━━━━━━━╇━━━━━━━━━━━━━━━━━━━━━━━━╇━━━━━━━━━━━━━━━┩\n",
       "│ dense (\u001b[38;5;33mDense\u001b[0m)                   │ (\u001b[38;5;45mNone\u001b[0m, \u001b[38;5;34m32\u001b[0m)             │            \u001b[38;5;34m96\u001b[0m │\n",
       "├─────────────────────────────────┼────────────────────────┼───────────────┤\n",
       "│ dense_1 (\u001b[38;5;33mDense\u001b[0m)                 │ (\u001b[38;5;45mNone\u001b[0m, \u001b[38;5;34m32\u001b[0m)             │         \u001b[38;5;34m1,056\u001b[0m │\n",
       "├─────────────────────────────────┼────────────────────────┼───────────────┤\n",
       "│ dense_2 (\u001b[38;5;33mDense\u001b[0m)                 │ (\u001b[38;5;45mNone\u001b[0m, \u001b[38;5;34m32\u001b[0m)             │         \u001b[38;5;34m1,056\u001b[0m │\n",
       "├─────────────────────────────────┼────────────────────────┼───────────────┤\n",
       "│ dense_3 (\u001b[38;5;33mDense\u001b[0m)                 │ (\u001b[38;5;45mNone\u001b[0m, \u001b[38;5;34m1\u001b[0m)              │            \u001b[38;5;34m33\u001b[0m │\n",
       "└─────────────────────────────────┴────────────────────────┴───────────────┘\n"
      ]
     },
     "metadata": {},
     "output_type": "display_data"
    },
    {
     "data": {
      "text/html": [
       "<pre style=\"white-space:pre;overflow-x:auto;line-height:normal;font-family:Menlo,'DejaVu Sans Mono',consolas,'Courier New',monospace\"><span style=\"font-weight: bold\"> Total params: </span><span style=\"color: #00af00; text-decoration-color: #00af00\">2,241</span> (8.75 KB)\n",
       "</pre>\n"
      ],
      "text/plain": [
       "\u001b[1m Total params: \u001b[0m\u001b[38;5;34m2,241\u001b[0m (8.75 KB)\n"
      ]
     },
     "metadata": {},
     "output_type": "display_data"
    },
    {
     "data": {
      "text/html": [
       "<pre style=\"white-space:pre;overflow-x:auto;line-height:normal;font-family:Menlo,'DejaVu Sans Mono',consolas,'Courier New',monospace\"><span style=\"font-weight: bold\"> Trainable params: </span><span style=\"color: #00af00; text-decoration-color: #00af00\">2,241</span> (8.75 KB)\n",
       "</pre>\n"
      ],
      "text/plain": [
       "\u001b[1m Trainable params: \u001b[0m\u001b[38;5;34m2,241\u001b[0m (8.75 KB)\n"
      ]
     },
     "metadata": {},
     "output_type": "display_data"
    },
    {
     "data": {
      "text/html": [
       "<pre style=\"white-space:pre;overflow-x:auto;line-height:normal;font-family:Menlo,'DejaVu Sans Mono',consolas,'Courier New',monospace\"><span style=\"font-weight: bold\"> Non-trainable params: </span><span style=\"color: #00af00; text-decoration-color: #00af00\">0</span> (0.00 B)\n",
       "</pre>\n"
      ],
      "text/plain": [
       "\u001b[1m Non-trainable params: \u001b[0m\u001b[38;5;34m0\u001b[0m (0.00 B)\n"
      ]
     },
     "metadata": {},
     "output_type": "display_data"
    },
    {
     "name": "stdout",
     "output_type": "stream",
     "text": [
      "epoch: 0 loss: 101.376587\n",
      "epoch: 500 loss: 0.521280944\n",
      "epoch: 1000 loss: 0.100550182\n",
      "epoch: 1500 loss: 0.0399697423\n",
      "epoch: 2000 loss: 0.0220527016\n",
      "epoch: 2500 loss: 0.0140867038\n",
      "Training ended successfully\n",
      "\n",
      "epoch: 0 loss: 101.482224\n",
      "epoch: 500 loss: 0.393888593\n",
      "epoch: 1000 loss: 0.195906818\n",
      "epoch: 1500 loss: 0.109994784\n",
      "epoch: 2000 loss: 0.065400064\n",
      "epoch: 2500 loss: 0.0398200266\n",
      "Training ended successfully\n",
      "\n",
      "epoch: 0 loss: 101.58786\n",
      "epoch: 500 loss: 0.271310478\n",
      "epoch: 1000 loss: 0.0779647\n",
      "epoch: 1500 loss: 0.0329352058\n",
      "epoch: 2000 loss: 0.0144063346\n",
      "epoch: 2500 loss: 0.00695166225\n",
      "Training ended successfully\n",
      "\n"
     ]
    }
   ],
   "source": [
    "model, optm = setup_model()\n",
    "initial_weights = model.get_weights()\n",
    "area = get_area(grid_size, x_limits, y_limits)\n",
    "border = get_border(border_grid_size, x_limits, y_limits)\n",
    "\n",
    "for i in range(3):\n",
    "    model.set_weights(initial_weights)\n",
    "    koef = i\n",
    "    path = koef_path(koef)\n",
    "    if os.path.isfile(path):\n",
    "        try:\n",
    "            model.load_weights(path)\n",
    "        except:\n",
    "            os.remove(path)\n",
    "            os.mknod(path)\n",
    "    else:\n",
    "        os.mknod(path)\n",
    "\n",
    "    train_with_loss(model, optm, koef, area, border)\n",
    "    print(\"Training ended successfully\\n\")\n",
    "\n",
    "    model.save_weights(checkpoint_path(i))\n",
    "    # plotting.NNPlots.plotLoss(train_loss_record)"
   ]
  },
  {
   "cell_type": "code",
   "execution_count": 10,
   "metadata": {},
   "outputs": [],
   "source": [
    "def real_u(area):\n",
    "    area = np.array(area)\n",
    "    if len(area.shape) >= 3:\n",
    "        x = area[0]\n",
    "        y = area[1]\n",
    "        return np.sin(np.pi * x) * np.sin(np.pi * y)\n",
    "    else:\n",
    "        return np.array([np.sin(np.pi * x) * np.sin(np.pi * y)  for x, y in area])"
   ]
  },
  {
   "cell_type": "code",
   "execution_count": 11,
   "metadata": {},
   "outputs": [
    {
     "name": "stderr",
     "output_type": "stream",
     "text": [
      "WARNING: All log messages before absl::InitializeLog() is called are written to STDERR\n",
      "I0000 00:00:1728055469.267291   10522 service.cc:146] XLA service 0x7f25140164c0 initialized for platform CUDA (this does not guarantee that XLA will be used). Devices:\n",
      "I0000 00:00:1728055469.267325   10522 service.cc:154]   StreamExecutor device (0): NVIDIA GeForce RTX 3050 Laptop GPU, Compute Capability 8.6\n",
      "2024-10-04 18:24:29.279516: I external/local_xla/xla/stream_executor/cuda/cuda_dnn.cc:531] Loaded cuDNN version 8907\n"
     ]
    },
    {
     "name": "stdout",
     "output_type": "stream",
     "text": [
      "\u001b[1m 246/1250\u001b[0m \u001b[32m━━━\u001b[0m\u001b[37m━━━━━━━━━━━━━━━━━\u001b[0m \u001b[1m0s\u001b[0m 614us/step"
     ]
    },
    {
     "name": "stderr",
     "output_type": "stream",
     "text": [
      "I0000 00:00:1728055469.614835   10522 device_compiler.h:188] Compiled cluster using XLA!  This line is logged at most once for the lifetime of the process.\n"
     ]
    },
    {
     "name": "stdout",
     "output_type": "stream",
     "text": [
      "\u001b[1m1250/1250\u001b[0m \u001b[32m━━━━━━━━━━━━━━━━━━━━\u001b[0m\u001b[37m\u001b[0m \u001b[1m3s\u001b[0m 2ms/step\n"
     ]
    }
   ],
   "source": [
    "\"\"\"\n",
    "Preparing usefull arrays for plotting and accuracy calculation\n",
    "\"\"\"\n",
    "\n",
    "# TODO: set area and border in different arrays\n",
    "x = np.linspace(x_limits[0], x_limits[1], plotting_grid_size[0])\n",
    "y = np.linspace(y_limits[0], y_limits[1], plotting_grid_size[1])\n",
    "x, y = np.meshgrid(x, y)\n",
    "test_x = np.linspace(x_limits[0], x_limits[1], plotting_grid_size[0])\n",
    "test_y = np.linspace(x_limits[0], x_limits[1], plotting_grid_size[1])\n",
    "test_x, test_y = np.meshgrid(test_x, test_y)\n",
    "train_u = real_u((x, y))\n",
    "true_u = real_u((test_x, test_y))\n",
    "test_coord = np.column_stack((test_x.flatten(), test_y.flatten()))\n",
    "pred_coord = list()\n",
    "for _x in x[0]:\n",
    "    for _y in x[0]:\n",
    "        pred_coord.append([_x, _y])\n",
    "pred_u = model.predict(np.array(pred_coord)).ravel().reshape(plotting_grid_size[0], plotting_grid_size[1])"
   ]
  },
  {
   "cell_type": "code",
   "execution_count": 12,
   "metadata": {},
   "outputs": [
    {
     "ename": "ValueError",
     "evalue": "not enough values to unpack (expected 3, got 2)",
     "output_type": "error",
     "traceback": [
      "\u001b[0;31m---------------------------------------------------------------------------\u001b[0m",
      "\u001b[0;31mValueError\u001b[0m                                Traceback (most recent call last)",
      "Cell \u001b[0;32mIn[12], line 7\u001b[0m\n\u001b[1;32m      2\u001b[0m plotter \u001b[38;5;241m=\u001b[39m plotting\u001b[38;5;241m.\u001b[39mNNPlots(test_x, test_y, true_u, x, y, pred_u, x_limits, y_limits)\n\u001b[1;32m      3\u001b[0m \u001b[38;5;66;03m# plotter.plot3d()\u001b[39;00m\n\u001b[1;32m      4\u001b[0m \u001b[38;5;66;03m# plotter.plot2d_fix_x(3)\u001b[39;00m\n\u001b[1;32m      5\u001b[0m \n\u001b[1;32m      6\u001b[0m \u001b[38;5;66;03m# cool cmaps: coolwarm(set as default), cool, gistncar, rainbow\u001b[39;00m\n\u001b[0;32m----> 7\u001b[0m \u001b[43mplotter\u001b[49m\u001b[38;5;241;43m.\u001b[39;49m\u001b[43mplot2d_contour\u001b[49m\u001b[43m(\u001b[49m\u001b[43mcolor_map\u001b[49m\u001b[38;5;241;43m=\u001b[39;49m\u001b[38;5;124;43m\"\u001b[39;49m\u001b[38;5;124;43mgist_ncar\u001b[39;49m\u001b[38;5;124;43m\"\u001b[39;49m\u001b[43m,\u001b[49m\u001b[43m \u001b[49m\u001b[43mcontour_levels\u001b[49m\u001b[38;5;241;43m=\u001b[39;49m\u001b[38;5;241;43m30\u001b[39;49m\u001b[43m)\u001b[49m\n",
      "File \u001b[0;32m~/projectPractice/pinn_puasson/src/plotting.py:71\u001b[0m, in \u001b[0;36mNNPlots.plot2d_contour\u001b[0;34m(self, color_map, contour_levels, linestyle)\u001b[0m\n\u001b[1;32m     65\u001b[0m \u001b[38;5;28;01mdef\u001b[39;00m \u001b[38;5;21mplot2d_contour\u001b[39m(\n\u001b[1;32m     66\u001b[0m     \u001b[38;5;28mself\u001b[39m, color_map\u001b[38;5;241m=\u001b[39m\u001b[38;5;124m\"\u001b[39m\u001b[38;5;124mcoolwarm\u001b[39m\u001b[38;5;124m\"\u001b[39m, contour_levels\u001b[38;5;241m=\u001b[39m\u001b[38;5;241m15\u001b[39m, linestyle\u001b[38;5;241m=\u001b[39m\u001b[38;5;124m\"\u001b[39m\u001b[38;5;124mdashed\u001b[39m\u001b[38;5;124m\"\u001b[39m\n\u001b[1;32m     67\u001b[0m ):\n\u001b[1;32m     68\u001b[0m \u001b[38;5;250m    \u001b[39m\u001b[38;5;124;03m\"\"\"\u001b[39;00m\n\u001b[1;32m     69\u001b[0m \u001b[38;5;124;03m    This function creates a 2D contour plot of the real and predicted u-values.\u001b[39;00m\n\u001b[1;32m     70\u001b[0m \u001b[38;5;124;03m    \"\"\"\u001b[39;00m\n\u001b[0;32m---> 71\u001b[0m     fig, (real, pred), diff \u001b[38;5;241m=\u001b[39m plt\u001b[38;5;241m.\u001b[39msubplots(\u001b[38;5;241m2\u001b[39m, \u001b[38;5;241m2\u001b[39m, figsize\u001b[38;5;241m=\u001b[39m(\u001b[38;5;241m12\u001b[39m, \u001b[38;5;241m12\u001b[39m))\n\u001b[1;32m     72\u001b[0m     fig\u001b[38;5;241m.\u001b[39msuptitle(\u001b[38;5;124m\"\u001b[39m\u001b[38;5;124mReal and Predicted U-Values\u001b[39m\u001b[38;5;124m\"\u001b[39m)\n\u001b[1;32m     74\u001b[0m     real\u001b[38;5;241m.\u001b[39mcontour(\n\u001b[1;32m     75\u001b[0m         \u001b[38;5;28mself\u001b[39m\u001b[38;5;241m.\u001b[39mtest_x,\n\u001b[1;32m     76\u001b[0m         \u001b[38;5;28mself\u001b[39m\u001b[38;5;241m.\u001b[39mtest_y,\n\u001b[0;32m   (...)\u001b[0m\n\u001b[1;32m     82\u001b[0m         alpha\u001b[38;5;241m=\u001b[39m\u001b[38;5;241m1\u001b[39m,\n\u001b[1;32m     83\u001b[0m     )\n",
      "\u001b[0;31mValueError\u001b[0m: not enough values to unpack (expected 3, got 2)"
     ]
    },
    {
     "data": {
      "application/vnd.jupyter.widget-view+json": {
       "model_id": "c4bdd39708904536914b5ecce5a7d520",
       "version_major": 2,
       "version_minor": 0
      },
      "image/png": "[encoded data removed]",
      "text/html": [
       "\n",
       "            <div style=\"display: inline-block;\">\n",
       "                <div class=\"jupyter-widgets widget-label\" style=\"text-align: center;\">\n",
       "                    Figure\n",
       "                </div>\n",
       "                <img src='data:image/png;base64,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' width=1200.0/>\n",
       "            </div>\n",
       "        "
      ],
      "text/plain": [
       "Canvas(toolbar=Toolbar(toolitems=[('Home', 'Reset original view', 'home', 'home'), ('Back', 'Back to previous …"
      ]
     },
     "metadata": {},
     "output_type": "display_data"
    }
   ],
   "source": [
    "%matplotlib widget\n",
    "plotter = plotting.NNPlots(test_x, test_y, true_u, x, y, pred_u, x_limits, y_limits)\n",
    "# plotter.plot3d()\n",
    "# plotter.plot2d_fix_x(3)\n",
    "\n",
    "# cool cmaps: coolwarm(set as default), cool, gistncar, rainbow\n",
    "plotter.plot2d_contour(color_map=\"gist_ncar\", contour_levels=30)"
   ]
  },
  {
   "cell_type": "markdown",
   "metadata": {},
   "source": [
    "# Accuracy calculation"
   ]
  },
  {
   "cell_type": "code",
   "execution_count": 32,
   "metadata": {},
   "outputs": [
    {
     "name": "stdout",
     "output_type": "stream",
     "text": [
      "\u001b[1m   1/1250\u001b[0m \u001b[37m━━━━━━━━━━━━━━━━━━━━\u001b[0m \u001b[1m21s\u001b[0m 17ms/step"
     ]
    },
    {
     "name": "stdout",
     "output_type": "stream",
     "text": [
      "\u001b[1m1250/1250\u001b[0m \u001b[32m━━━━━━━━━━━━━━━━━━━━\u001b[0m\u001b[37m\u001b[0m \u001b[1m1s\u001b[0m 563us/step\n",
      "Error: 0.5811934228731588\n",
      "Error: 2.8734850883483887\n",
      "\u001b[1m1250/1250\u001b[0m \u001b[32m━━━━━━━━━━━━━━━━━━━━\u001b[0m\u001b[37m\u001b[0m \u001b[1m1s\u001b[0m 533us/step\n",
      "Error: 0.00018626773258717495\n",
      "Error: 0.09686440229415894\n",
      "\u001b[1m1250/1250\u001b[0m \u001b[32m━━━━━━━━━━━━━━━━━━━━\u001b[0m\u001b[37m\u001b[0m \u001b[1m1s\u001b[0m 546us/step\n",
      "Error: 0.0002224409522294462\n",
      "Error: 0.0751945897936821\n"
     ]
    }
   ],
   "source": [
    "from accuracy import AccuracyCalc\n",
    "\n",
    "# 0 koef has bad accuracy)\n",
    "for i in range(3):\n",
    "    model.load_weights(checkpoint_path(i))\n",
    "    calc = AccuracyCalc(model, real_u, area=np.array(pred_coord))\n",
    "    print(\"Error:\", calc.mse())\n",
    "    print(\"Error:\", calc.maxe())"
   ]
  }
 ],
 "metadata": {
  "kernelspec": {
   "display_name": ".venv",
   "language": "python",
   "name": "python3"
  },
  "language_info": {
   "codemirror_mode": {
    "name": "ipython",
    "version": 3
   },
   "file_extension": ".py",
   "mimetype": "text/x-python",
   "name": "python",
   "nbconvert_exporter": "python",
   "pygments_lexer": "ipython3",
   "version": "3.10.12"
  }
 },
 "nbformat": 4,
 "nbformat_minor": 2
}
