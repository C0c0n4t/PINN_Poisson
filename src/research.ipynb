{
 "cells": [
  {
   "cell_type": "code",
   "execution_count": null,
   "metadata": {},
   "outputs": [],
   "source": [
    "from data_gen import DataGenerator, get_data, real_u1\n",
    "from pinn import PINNModel, model1, model2, optm1\n",
    "\n",
    "from accuracy import AccuracyCalc\n",
    "from plotting import NNPlots\n",
    "\n",
    "import os"
   ]
  },
  {
   "cell_type": "code",
   "execution_count": 2,
   "metadata": {},
   "outputs": [],
   "source": [
    "data = get_data(False)\n",
    "koefs_list = data['big_range']\n",
    "session = 7\n",
    "\n",
    "model = PINNModel(model1(), optm=optm1())\n",
    "dg = DataGenerator(data['x'], data['y'], model.predict, real_u1)"
   ]
  },
  {
   "cell_type": "code",
   "execution_count": null,
   "metadata": {},
   "outputs": [],
   "source": [
    "existing_koefs = []\n",
    "mse_loss_record = []\n",
    "max_loss_record = []\n",
    "for koef in koefs_list:\n",
    "    # print(DataGenerator.name(koef, session))\n",
    "    if os.path.exists(DataGenerator.name(koef, session)):\n",
    "        model.load(dg.name(koef, session))\n",
    "\n",
    "        acc = AccuracyCalc(dg, (70, 70))\n",
    "        existing_koefs.append(koef)\n",
    "        max_loss_record.append(acc.maxe())\n",
    "        mse_loss_record.append(acc.mse())\n",
    "        print(f'mse_loss: {mse_loss_record[-1]}')\n",
    "        print(f'max_loss: {max_loss_record[-1]}')\n",
    "        print()"
   ]
  },
  {
   "cell_type": "code",
   "execution_count": null,
   "metadata": {},
   "outputs": [],
   "source": [
    "import numpy as np\n",
    "\n",
    "print(list(np.linspace(1, 1000, 112)))"
   ]
  },
  {
   "cell_type": "code",
   "execution_count": null,
   "metadata": {},
   "outputs": [],
   "source": [
    "plotter = NNPlots(dg, (70, 70))\n",
    "\n",
    "plotter.plot_error(existing_koefs, mse_loss_record, \"MSE\")\n",
    "plotter.plot_error(existing_koefs, max_loss_record, \"MAX\")"
   ]
  },
  {
   "cell_type": "code",
   "execution_count": null,
   "metadata": {},
   "outputs": [],
   "source": [
    "# plotter.plot2d_contour(color_map=\"gnuplot2\")\n",
    "plotter.plot2d_contour()"
   ]
  }
 ],
 "metadata": {
  "kernelspec": {
   "display_name": ".venv",
   "language": "python",
   "name": "python3"
  },
  "language_info": {
   "codemirror_mode": {
    "name": "ipython",
    "version": 3
   },
   "file_extension": ".py",
   "mimetype": "text/x-python",
   "name": "python",
   "nbconvert_exporter": "python",
   "pygments_lexer": "ipython3",
   "version": "3.10.12"
  }
 },
 "nbformat": 4,
 "nbformat_minor": 2
}
