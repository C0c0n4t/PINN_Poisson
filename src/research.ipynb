{
 "cells": [
  {
   "cell_type": "code",
   "execution_count": null,
   "metadata": {},
   "outputs": [],
   "source": [
    "from modules.data_gen import DataGenerator, get_data, real_u1\n",
    "from modules.pinn import PINNModel, model1, model2, optm1\n",
    "\n",
    "from modules.accuracy import AccuracyCalc\n",
    "from modules.plotting import NNPlots\n",
    "\n",
    "import os"
   ]
  },
  {
   "cell_type": "code",
   "execution_count": null,
   "metadata": {},
   "outputs": [],
   "source": [
    "session = 4\n",
    "data = get_data(sess=session)\n",
    "koefs_list = data['big_range']\n",
    "\n",
    "model = PINNModel(model1(), optm=optm1())\n",
    "dg = DataGenerator(data['x'], data['y'], model.predict, real_u1)\n",
    "\n",
    "grid = (70, 70)\n",
    "\n",
    "dataset = dg.inner_pairs(grid), dg.border_pairs(grid)\n",
    "\n",
    "acc = AccuracyCalc(dg, grid)"
   ]
  },
  {
   "cell_type": "code",
   "execution_count": 3,
   "metadata": {},
   "outputs": [],
   "source": [
    "# %%capture\n",
    "# to supress output\n",
    "\n",
    "existing_koefs = []\n",
    "mse_loss_record = []\n",
    "max_loss_record = []\n",
    "train_loss_record = []\n",
    "\n",
    "output = False\n",
    "\n",
    "for koef in koefs_list:\n",
    "    if os.path.exists(DataGenerator.name(koef, session)):\n",
    "        model.load(dg.name(koef, session))\n",
    "        acc.update_predicitons((70, 70))\n",
    "\n",
    "        existing_koefs.append(koef)\n",
    "        max_loss_record.append(acc.maxe())\n",
    "        mse_loss_record.append(acc.mse())\n",
    "        train_loss_record.append(model.loss(koef, *dataset))\n",
    "        if output:\n",
    "            print(f'mse_loss: {mse_loss_record[-1]}')\n",
    "            print(f'max_loss: {max_loss_record[-1]}')\n",
    "            print(f'model loss: {model.loss(koef, *dataset)}')\n",
    "            print()"
   ]
  },
  {
   "cell_type": "code",
   "execution_count": null,
   "metadata": {},
   "outputs": [],
   "source": [
    "plotter = NNPlots(dg, grid)\n",
    "\n",
    "plotter.plot_error(existing_koefs, mse_loss_record, \"MSE\")\n",
    "plotter.plot_error(existing_koefs, max_loss_record, \"MAX\")\n",
    "plotter.plot_error(existing_koefs, train_loss_record, \"Loss\")"
   ]
  },
  {
   "cell_type": "code",
   "execution_count": null,
   "metadata": {},
   "outputs": [],
   "source": [
    "# plotter.plot2d_contour(color_map=\"gnuplot2\")\n",
    "plotter.plot2d_contour()"
   ]
  }
 ],
 "metadata": {
  "kernelspec": {
   "display_name": ".venv",
   "language": "python",
   "name": "python3"
  },
  "language_info": {
   "codemirror_mode": {
    "name": "ipython",
    "version": 3
   },
   "file_extension": ".py",
   "mimetype": "text/x-python",
   "name": "python",
   "nbconvert_exporter": "python",
   "pygments_lexer": "ipython3",
   "version": "3.12.3"
  }
 },
 "nbformat": 4,
 "nbformat_minor": 2
}
