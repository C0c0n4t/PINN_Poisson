{
 "cells": [
  {
   "cell_type": "code",
   "execution_count": 64,
   "metadata": {},
   "outputs": [],
   "source": [
    "from data_gen import DataGenerator, get_koefs, real_u1\n",
    "from pinn import PINNModel, model1, model2\n",
    "\n",
    "from accuracy import AccuracyCalc\n",
    "from plotting import NNPlots\n",
    "\n",
    "import os"
   ]
  },
  {
   "cell_type": "code",
   "execution_count": null,
   "metadata": {},
   "outputs": [],
   "source": [
    "model = PINNModel(model1(), optm=None)"
   ]
  },
  {
   "cell_type": "code",
   "execution_count": 66,
   "metadata": {},
   "outputs": [],
   "source": [
    "x_limits = (0, 2)\n",
    "y_limits = (0, 2)\n",
    "dataGen = DataGenerator(x_limits, y_limits, model.predict, real_u1)"
   ]
  },
  {
   "cell_type": "code",
   "execution_count": null,
   "metadata": {},
   "outputs": [],
   "source": [
    "koefs_list = get_koefs()\n",
    "existing_koefs = []\n",
    "mse_loss_record = []\n",
    "max_loss_record = []\n",
    "session = \"session7\"\n",
    "for koef in koefs_list:\n",
    "    if os.path.exists(f\"../models/s={session}.model{koef}.weights.h5\"):\n",
    "        model = PINNModel(model1(), optm=None)\n",
    "        dataGen = DataGenerator(x_limits, y_limits, model.predict, real_u1)\n",
    "        model.load(f\"../models/s={session}.model{koef}.weights.h5\")\n",
    "        acc = AccuracyCalc(dataGen, (70, 70))\n",
    "\n",
    "        existing_koefs.append(koef)\n",
    "        max_loss_record.append(acc.maxe())\n",
    "        mse_loss_record.append(acc.mse())\n",
    "        print(f'mse_loss: {mse_loss_record[-1]}')"
   ]
  },
  {
   "cell_type": "code",
   "execution_count": null,
   "metadata": {},
   "outputs": [],
   "source": [
    "plotter = NNPlots(dataGen, (70, 70))\n",
    "\n",
    "plotter.plot_error(existing_koefs, mse_loss_record)\n",
    "plotter.plot_error(existing_koefs, max_loss_record)"
   ]
  },
  {
   "cell_type": "code",
   "execution_count": null,
   "metadata": {},
   "outputs": [],
   "source": [
    "# plotter.plot2d_contour(color_map=\"gnuplot2\")\n",
    "plotter.plot2d_contour()"
   ]
  }
 ],
 "metadata": {
  "kernelspec": {
   "display_name": ".venv",
   "language": "python",
   "name": "python3"
  },
  "language_info": {
   "codemirror_mode": {
    "name": "ipython",
    "version": 3
   },
   "file_extension": ".py",
   "mimetype": "text/x-python",
   "name": "python",
   "nbconvert_exporter": "python",
   "pygments_lexer": "ipython3",
   "version": "3.10.12"
  }
 },
 "nbformat": 4,
 "nbformat_minor": 2
}
