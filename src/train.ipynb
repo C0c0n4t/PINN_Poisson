{
 "cells": [
  {
   "cell_type": "code",
   "execution_count": 9,
   "metadata": {},
   "outputs": [],
   "source": [
    "import tensorflow as tf\n",
    "import os\n",
    "import numpy as np\n",
    "\n",
    "from pinn import PINNModel, model1, optm1\n",
    "from data_gen import DataGenerator, real_u1, get_data"
   ]
  },
  {
   "cell_type": "code",
   "execution_count": 10,
   "metadata": {},
   "outputs": [],
   "source": [
    "# force gpu use\n",
    "gpus = tf.config.list_physical_devices('GPU')\n",
    "tf.config.experimental.set_visible_devices(gpus[0], 'GPU')"
   ]
  },
  {
   "cell_type": "code",
   "execution_count": 11,
   "metadata": {},
   "outputs": [],
   "source": [
    "session='7'\n",
    "data = get_data(True, session)\n",
    "EPOCHS = data['epochs']\n",
    "koefs = data['big_range']\n",
    "if not data[\"session_exists\"]:\n",
    "    os.makedirs(f\"../models/s{session}\")"
   ]
  },
  {
   "cell_type": "markdown",
   "metadata": {},
   "source": []
  },
  {
   "cell_type": "code",
   "execution_count": 7,
   "metadata": {},
   "outputs": [],
   "source": [
    "model = PINNModel(\n",
    "    model1(), optm1(), lossf=\"mae\", initial_weights=DataGenerator.init_name(session))\n",
    "\n",
    "# so now there are weights at this path\n",
    "model.save(DataGenerator.init_name(session))\n",
    "dg = DataGenerator(data['x'], data['y'], model.predict, real_u1)"
   ]
  },
  {
   "cell_type": "code",
   "execution_count": null,
   "metadata": {},
   "outputs": [],
   "source": [
    "area_grid_size = (50, 50)\n",
    "border_grid_size = (50, 50)\n",
    "dataset = dg.inner_pairs(area_grid_size), dg.border_pairs(border_grid_size)\n",
    "\n",
    "for koef in koefs:\n",
    "    model = PINNModel(\n",
    "        model1(), optm1(), \"mae\", initial_weights=DataGenerator.init_name(session))\n",
    "    # model.reset()\n",
    "    model.fit(koef, *dataset, EPOCHS)\n",
    "    model.save(dg.name(koef, session))"
   ]
  }
 ],
 "metadata": {
  "kernelspec": {
   "display_name": ".venv",
   "language": "python",
   "name": "python3"
  },
  "language_info": {
   "codemirror_mode": {
    "name": "ipython",
    "version": 3
   },
   "file_extension": ".py",
   "mimetype": "text/x-python",
   "name": "python",
   "nbconvert_exporter": "python",
   "pygments_lexer": "ipython3",
   "version": "3.10.12"
  }
 },
 "nbformat": 4,
 "nbformat_minor": 2
}
