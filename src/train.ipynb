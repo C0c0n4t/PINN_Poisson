{
 "cells": [
  {
   "cell_type": "code",
   "execution_count": 13,
   "metadata": {},
   "outputs": [],
   "source": [
    "import tensorflow as tf\n",
    "\n",
    "# force gpu use\n",
    "gpus = tf.config.list_physical_devices('GPU')\n",
    "tf.config.experimental.set_visible_devices(gpus[0], 'GPU')"
   ]
  },
  {
   "cell_type": "code",
   "execution_count": 14,
   "metadata": {},
   "outputs": [],
   "source": [
    "import os\n",
    "\n",
    "from modules.pinn import PINNModel, model1, optm1\n",
    "from modules.data_gen import DataGenerator, real_u1, get_data"
   ]
  },
  {
   "cell_type": "code",
   "execution_count": 15,
   "metadata": {},
   "outputs": [],
   "source": [
    "session = 3\n",
    "data = get_data(session)\n",
    "EPOCHS = 600  # data['epochs']\n",
    "koefs = data['two_pow']\n",
    "if not data[\"session_exists\"]:\n",
    "    os.makedirs(f\"../models/s{session}\")\n",
    "\n",
    "# write information about session to compare in future\n",
    "with open(f\"../models/s{session}/session_info.txt\", \"w\") as f:\n",
    "    f.writelines([f\"Session number is {session}\\n\",\n",
    "                  f\"Epochs number is {EPOCHS}\\n\"\n",
    "                  f\"koefs range is {', '.join([str(round(i, 6)) for i in koefs])}\\n\"])"
   ]
  },
  {
   "cell_type": "code",
   "execution_count": 16,
   "metadata": {},
   "outputs": [],
   "source": [
    "model = PINNModel(\n",
    "    model1(), optm1(), initial_weights=DataGenerator.init_name(session))\n",
    "\n",
    "# if there are no initial weights, save current as initial\n",
    "if not os.path.exists(DataGenerator.init_name(session)):\n",
    "    model.save(DataGenerator.init_name(session))\n",
    "\n",
    "dg = DataGenerator(data['x'], data['y'], model.predict, real_u1)"
   ]
  },
  {
   "cell_type": "code",
   "execution_count": 17,
   "metadata": {},
   "outputs": [
    {
     "name": "stdout",
     "output_type": "stream",
     "text": [
      "Time past 5.715897083282471\n",
      "\n",
      "Time past 5.334482669830322\n",
      "\n",
      "Time past 6.769809722900391\n",
      "\n",
      "Time past 5.4701597690582275\n",
      "\n",
      "Time past 5.677501440048218\n",
      "\n",
      "Time past 5.617433071136475\n",
      "\n",
      "Time past 5.6194748878479\n",
      "\n",
      "Time past 6.647408723831177\n",
      "\n",
      "Time past 5.558631181716919\n",
      "\n",
      "Time past 5.524456262588501\n",
      "\n",
      "Time past 5.349430322647095\n",
      "\n",
      "Time past 5.358959913253784\n",
      "\n",
      "Time past 5.403919458389282\n",
      "\n",
      "Time past 6.158241510391235\n",
      "\n",
      "Time past 5.4052135944366455\n",
      "\n",
      "Time past 5.336142063140869\n",
      "\n",
      "Time past 5.414567708969116\n",
      "\n",
      "Time past 5.725932359695435\n",
      "\n",
      "Time past 5.78382420539856\n",
      "\n",
      "Time past 5.943002700805664\n",
      "\n",
      "Time past 6.118921279907227\n",
      "\n",
      "Time past 5.8754050731658936\n",
      "\n",
      "Time past 5.796887636184692\n",
      "\n",
      "Time past 7.596641302108765\n",
      "\n",
      "Time past 6.6992433071136475\n",
      "\n",
      "Time past 5.885698080062866\n",
      "\n",
      "Time past 6.334725856781006\n",
      "\n",
      "Time past 5.825164079666138\n",
      "\n",
      "Time past 6.663694858551025\n",
      "\n",
      "Time past 5.810104608535767\n",
      "\n",
      "Time past 5.919161319732666\n",
      "\n",
      "Time past 6.500359773635864\n",
      "\n",
      "Time past 5.752711057662964\n",
      "\n",
      "Time past 6.607816696166992\n",
      "\n",
      "Time past 5.892950534820557\n",
      "\n",
      "Time past 5.6374571323394775\n",
      "\n",
      "Time past 5.610356092453003\n",
      "\n",
      "Time past 6.073401212692261\n",
      "\n",
      "Time past 5.707395553588867\n",
      "\n",
      "Time past 6.071617603302002\n",
      "\n"
     ]
    }
   ],
   "source": [
    "area_grid_size = (50, 50)\n",
    "border_grid_size = (50, 50)\n",
    "dataset = dg.inner_pairs(area_grid_size), dg.border_pairs(border_grid_size)\n",
    "\n",
    "for koef in koefs:\n",
    "    if not os.path.exists(dg.name(koef, session)):\n",
    "        model = PINNModel(\n",
    "            model1(), optm1(), initial_weights=DataGenerator.init_name(session))\n",
    "        # model.reset()\n",
    "        model.fit(koef, *dataset, EPOCHS)\n",
    "        model.save(dg.name(koef, session))"
   ]
  },
  {
   "cell_type": "code",
   "execution_count": 18,
   "metadata": {},
   "outputs": [],
   "source": [
    "# import shutil\n",
    "\n",
    "# shutil.make_archive(f\"../models/s{session}\", 'zip', f\"../models/s{session}\")"
   ]
  }
 ],
 "metadata": {
  "kernelspec": {
   "display_name": ".venv",
   "language": "python",
   "name": "python3"
  },
  "language_info": {
   "codemirror_mode": {
    "name": "ipython",
    "version": 3
   },
   "file_extension": ".py",
   "mimetype": "text/x-python",
   "name": "python",
   "nbconvert_exporter": "python",
   "pygments_lexer": "ipython3",
   "version": "3.12.3"
  }
 },
 "nbformat": 4,
 "nbformat_minor": 2
}
