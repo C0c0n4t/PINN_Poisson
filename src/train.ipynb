{
 "cells": [
  {
   "cell_type": "code",
   "execution_count": null,
   "metadata": {},
   "outputs": [],
   "source": [
    "import tensorflow as tf\n",
    "\n",
    "# force gpu use\n",
    "gpus = tf.config.list_physical_devices('GPU')\n",
    "tf.config.experimental.set_visible_devices(gpus[0], 'GPU')"
   ]
  },
  {
   "cell_type": "code",
   "execution_count": null,
   "metadata": {},
   "outputs": [],
   "source": [
    "import os\n",
    "\n",
    "from modules.pinn import PINNModel, model1, optm1\n",
    "from modules.data_gen import DataGenerator, real_u1, get_data"
   ]
  },
  {
   "cell_type": "code",
   "execution_count": 3,
   "metadata": {},
   "outputs": [],
   "source": [
    "session = 23\n",
    "data = get_data(session)\n",
    "EPOCHS = data['epochs']\n",
    "koefs = data['two_pow_2']\n",
    "if not data[\"session_exists\"]:\n",
    "    os.makedirs(f\"../models/s{session}\")\n",
    "\n",
    "# write information about session to compare in future\n",
    "with open(f\"../models/s{session}/session_info.txt\", \"w\") as f:\n",
    "    f.writelines([f\"Session number is {session}\",\n",
    "                  f\"Epochs number is {EPOCHS}\"\n",
    "                  f\"koefs range is {', '.join([str(round(i, 6)) for i in koefs])}\"])"
   ]
  },
  {
   "cell_type": "code",
   "execution_count": null,
   "metadata": {},
   "outputs": [],
   "source": [
    "model = PINNModel(\n",
    "    model1(), optm1(), initial_weights=DataGenerator.init_name(session))\n",
    "\n",
    "# if there are no initial weights, save current as initial\n",
    "if not os.path.exists(DataGenerator.init_name(session)):\n",
    "    model.save(DataGenerator.init_name(session))\n",
    "\n",
    "dg = DataGenerator(data['x'], data['y'], model.predict, real_u1)"
   ]
  },
  {
   "cell_type": "code",
   "execution_count": null,
   "metadata": {},
   "outputs": [],
   "source": [
    "area_grid_size = (50, 50)\n",
    "border_grid_size = (50, 50)\n",
    "dataset = dg.inner_pairs(area_grid_size), dg.border_pairs(border_grid_size)\n",
    "\n",
    "for koef in koefs:\n",
    "    if not os.path.exists(dg.name(koef, session)):\n",
    "        model = PINNModel(\n",
    "            model1(), optm1(), initial_weights=DataGenerator.init_name(session))\n",
    "        # model.reset()\n",
    "        model.fit(koef, *dataset, EPOCHS)\n",
    "        model.save(dg.name(koef, session))"
   ]
  },
  {
   "cell_type": "code",
   "execution_count": null,
   "metadata": {},
   "outputs": [],
   "source": [
    "import shutil\n",
    "\n",
    "shutil.make_archive(f\"../models/s{session}\", 'zip', f\"../models/s{session}\")"
   ]
  }
 ],
 "metadata": {
  "kernelspec": {
   "display_name": ".venv",
   "language": "python",
   "name": "python3"
  },
  "language_info": {
   "codemirror_mode": {
    "name": "ipython",
    "version": 3
   },
   "file_extension": ".py",
   "mimetype": "text/x-python",
   "name": "python",
   "nbconvert_exporter": "python",
   "pygments_lexer": "ipython3",
   "version": "3.12.3"
  }
 },
 "nbformat": 4,
 "nbformat_minor": 2
}
