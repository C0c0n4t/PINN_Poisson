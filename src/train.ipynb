{
 "cells": [
  {
   "cell_type": "code",
   "execution_count": 47,
   "metadata": {},
   "outputs": [],
   "source": [
    "import tensorflow as tf\n",
    "import numpy as np\n",
    "\n",
    "import os\n",
    "import json\n",
    "from pinn import PINNModel, model1, model2\n",
    "from data_gen import DataGenerator, real_u1, get_koefs"
   ]
  },
  {
   "cell_type": "code",
   "execution_count": 48,
   "metadata": {},
   "outputs": [],
   "source": [
    "# force gpu use\n",
    "gpus = tf.config.list_physical_devices('GPU')\n",
    "tf.config.experimental.set_visible_devices(gpus[0], 'GPU')"
   ]
  },
  {
   "cell_type": "code",
   "execution_count": null,
   "metadata": {},
   "outputs": [],
   "source": [
    "area_grid_size = (50, 50)\n",
    "border_grid_size = (50, 50)\n",
    "x_limits = (0, 2)\n",
    "y_limits = (0, 2)\n",
    "\n",
    "EPOCHS = 5000\n",
    "\n",
    "# Define the learning rate schedule\n",
    "boundaries = [5000, 15000, 50000]\n",
    "values = [1e-3, 1e-4, 1e-5, 1e-6]\n",
    "\n",
    "lr_sched = tf.optimizers.schedules.PiecewiseConstantDecay(boundaries, values)\n",
    "\n",
    "model = PINNModel(\n",
    "    model1(), optm=tf.keras.optimizers.Adam(learning_rate=lr_sched))\n",
    "\n",
    "dataGen = DataGenerator(x_limits, y_limits, model.predict, real_u1)"
   ]
  },
  {
   "cell_type": "code",
   "execution_count": null,
   "metadata": {},
   "outputs": [],
   "source": [
    "from accuracy import AccuracyCalc\n",
    "from plotting import NNPlots\n",
    "\n",
    "koefs = get_koefs()\n",
    "\n",
    "session = \"session7\"\n",
    "\n",
    "initial_weights_path = f\"../models/s={session}.initial.weights.h5\"\n",
    "\n",
    "data_set = dataGen.inner_pairs(area_grid_size), dataGen.border_pairs(border_grid_size)\n",
    "\n",
    "data = open('./koef.json', 'r')\n",
    "\n",
    "reset = False\n",
    "if not session in data or reset == True:\n",
    "    model.save(initial_weights_path)\n",
    "    # data[f'session'] = koefs\n",
    "    for koef in koefs:\n",
    "        path = f\"../models/s={session}.model{koef}.weights.h5\"\n",
    "        model = PINNModel(\n",
    "    model1(), optm=tf.keras.optimizers.Adam(learning_rate=lr_sched))\n",
    "        model.load(initial_weights_path)\n",
    "        model.fit(koef, *data_set, EPOCHS, EPRINT=EPOCHS)\n",
    "        model.save(path)\n",
    "    # with open('./koef.json', 'w') as file:\n",
    "    #     json.dump(data, file, indent=4)\n",
    "# model.load(f\"../models/s={session}.model{3}.weights.h5\")\n",
    "# model.load(initial_weights_path)\n",
    "# model\n",
    "# data_set = dataGen.inner_pairs(area_grid_size), dataGen.border_pairs(border_grid_size)\n",
    "# model.fit(3, *data_set, EPOCHS=5000, EPRINT=500)\n",
    "# acc = AccuracyCalc(dataGen, (70, 70))\n",
    "# print(f'mse_loss: {acc.mse()}')"
   ]
  },
  {
   "cell_type": "code",
   "execution_count": null,
   "metadata": {},
   "outputs": [],
   "source": [
    "# model.load(f\"../models/s={session}.model{3}.weights.h5\")\n",
    "model.load(initial_weights_path)\n",
    "model = PINNModel(\n",
    "    model1(), optm=tf.keras.optimizers.Adam(learning_rate=lr_sched))\n",
    "dataGen = DataGenerator(x_limits, y_limits, model.predict, real_u1)\n",
    "model.load(initial_weights_path)\n",
    "data_set = dataGen.inner_pairs(area_grid_size), dataGen.border_pairs(border_grid_size)\n",
    "model.fit(1, *data_set, EPOCHS=500, EPRINT=1000)\n",
    "acc = AccuracyCalc(dataGen, (70, 70))\n",
    "print(f'mse_loss: {acc.mse()}')"
   ]
  },
  {
   "cell_type": "code",
   "execution_count": null,
   "metadata": {},
   "outputs": [],
   "source": [
    "plotter = NNPlots(dataGen, (70, 70))\n",
    "plotter.plot2d_contour()"
   ]
  }
 ],
 "metadata": {
  "kernelspec": {
   "display_name": ".venv",
   "language": "python",
   "name": "python3"
  },
  "language_info": {
   "codemirror_mode": {
    "name": "ipython",
    "version": 3
   },
   "file_extension": ".py",
   "mimetype": "text/x-python",
   "name": "python",
   "nbconvert_exporter": "python",
   "pygments_lexer": "ipython3",
   "version": "3.10.12"
  }
 },
 "nbformat": 4,
 "nbformat_minor": 2
}
