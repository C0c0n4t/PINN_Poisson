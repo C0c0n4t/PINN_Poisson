{
 "cells": [
  {
   "cell_type": "code",
   "execution_count": null,
   "metadata": {},
   "outputs": [],
   "source": [
    "import tensorflow as tf"
   ]
  },
  {
   "cell_type": "code",
   "execution_count": 12,
   "metadata": {},
   "outputs": [
    {
     "name": "stdout",
     "output_type": "stream",
     "text": [
      "tf.Tensor([[48. 52.]], shape=(1, 2), dtype=float32)\n",
      "tf.Tensor([[72. 74.]], shape=(1, 2), dtype=float32)\n",
      "tf.Tensor([72.], shape=(1,), dtype=float32) tf.Tensor([74.], shape=(1,), dtype=float32)\n"
     ]
    }
   ],
   "source": [
    "xy = tf.Variable([[2., 2.]])\n",
    "with tf.GradientTape(persistent=True) as tape2:\n",
    "    tape2.watch(xy)\n",
    "    with tf.GradientTape() as tape:\n",
    "        tape.watch(xy)\n",
    "        f = 3 * (xy[:, 0] * xy[:, 1]) ** 2 + xy[:, 1] ** 2\n",
    "    df = tape.gradient(f, xy)\n",
    "    print(df)\n",
    "\n",
    "d2f = tape2.gradient(df, xy)\n",
    "print(d2f)\n",
    "d2f_dx2 = d2f[:,0]\n",
    "d2f_dy2 = d2f[:,1]\n",
    "del tape2\n",
    "\n",
    "print(d2f_dx2, d2f_dy2)"
   ]
  },
  {
   "cell_type": "code",
   "execution_count": 3,
   "metadata": {},
   "outputs": [
    {
     "name": "stdout",
     "output_type": "stream",
     "text": [
      "tf.Tensor([48.], shape=(1,), dtype=float32) tf.Tensor([52.], shape=(1,), dtype=float32)\n",
      "tf.Tensor([[24. 48.]], shape=(1, 2), dtype=float32) tf.Tensor([[48. 26.]], shape=(1, 2), dtype=float32)\n"
     ]
    }
   ],
   "source": [
    "xy = tf.Variable([[2., 2.]])\n",
    "with tf.GradientTape(persistent=True) as tape2:\n",
    "    tape2.watch(xy)\n",
    "    with tf.GradientTape() as tape:\n",
    "        tape.watch(xy)\n",
    "        f = 3 * (xy[:, 0] * xy[:, 1]) ** 2 + xy[:, 1] ** 2\n",
    "    df = tape.gradient(f, xy)\n",
    "    del tape\n",
    "    df_dx = df[..., 0]\n",
    "    df_dy = df[..., 1]\n",
    "    print(df_dx, df_dy)\n",
    "\n",
    "d2f_dx = tape2.gradient(df_dx, xy)\n",
    "d2f_dy = tape2.gradient(df_dy, xy)\n",
    "print(d2f_dx, d2f_dy)\n",
    "del tape2"
   ]
  },
  {
   "cell_type": "code",
   "execution_count": 3,
   "metadata": {},
   "outputs": [
    {
     "name": "stdout",
     "output_type": "stream",
     "text": [
      "WARNING:tensorflow:Calling GradientTape.gradient on a persistent tape inside its context is significantly less efficient than calling it outside the context (it causes the gradient ops to be recorded on the tape, leading to increased CPU and memory usage). Only call GradientTape.gradient inside the context if you actually want to trace the gradient in order to compute higher order derivatives.\n",
      "tf.Tensor([[48. 52.]], shape=(1, 2), dtype=float32)\n",
      "WARNING:tensorflow:Calling GradientTape.gradient on a persistent tape inside its context is significantly less efficient than calling it outside the context (it causes the gradient ops to be recorded on the tape, leading to increased CPU and memory usage). Only call GradientTape.gradient inside the context if you actually want to trace the gradient in order to compute higher order derivatives.\n",
      "tf.Tensor([[72. 74.]], shape=(1, 2), dtype=float32)\n",
      "tf.Tensor([72.], shape=(1,), dtype=float32) tf.Tensor([74.], shape=(1,), dtype=float32)\n"
     ]
    }
   ],
   "source": [
    "xy = tf.Variable([[2., 2.]])\n",
    "with tf.GradientTape(persistent=True) as tape:\n",
    "    tape.watch(xy)\n",
    "    f = 3 * (xy[:, 0] * xy[:, 1]) ** 2 + xy[:, 1] ** 2\n",
    "    df = tape.gradient(f, xy)\n",
    "    print(df)\n",
    "    d2f = tape.gradient(df, xy)\n",
    "    print(d2f)\n",
    "    d2f_dx2 = d2f[:,0]\n",
    "    d2f_dy2 = d2f[:,1]\n",
    "del tape\n",
    "\n",
    "print(d2f_dx2, d2f_dy2)"
   ]
  }
 ],
 "metadata": {
  "kernelspec": {
   "display_name": ".venv",
   "language": "python",
   "name": "python3"
  },
  "language_info": {
   "codemirror_mode": {
    "name": "ipython",
    "version": 3
   },
   "file_extension": ".py",
   "mimetype": "text/x-python",
   "name": "python",
   "nbconvert_exporter": "python",
   "pygments_lexer": "ipython3",
   "version": "3.12.3"
  }
 },
 "nbformat": 4,
 "nbformat_minor": 2
}
